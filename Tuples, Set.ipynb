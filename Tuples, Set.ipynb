{
 "cells": [
  {
   "cell_type": "code",
   "execution_count": 26,
   "id": "4854a571",
   "metadata": {},
   "outputs": [],
   "source": [
    "t = (1,2,3,4,5)"
   ]
  },
  {
   "cell_type": "code",
   "execution_count": 27,
   "id": "7e9d0054",
   "metadata": {},
   "outputs": [
    {
     "data": {
      "text/plain": [
       "tuple"
      ]
     },
     "execution_count": 27,
     "metadata": {},
     "output_type": "execute_result"
    }
   ],
   "source": [
    "type(t)"
   ]
  },
  {
   "cell_type": "code",
   "execution_count": 3,
   "id": "7c29e875",
   "metadata": {},
   "outputs": [],
   "source": [
    "t1=(\"sach\", 123, 4+5j, 123.46, True)"
   ]
  },
  {
   "cell_type": "code",
   "execution_count": 4,
   "id": "0daac598",
   "metadata": {},
   "outputs": [
    {
     "data": {
      "text/plain": [
       "tuple"
      ]
     },
     "execution_count": 4,
     "metadata": {},
     "output_type": "execute_result"
    }
   ],
   "source": [
    "type(t1)"
   ]
  },
  {
   "cell_type": "code",
   "execution_count": 5,
   "id": "6eebfd9d",
   "metadata": {},
   "outputs": [],
   "source": [
    "l=[\"sach\", 123, 4+5j, 123.46, True]"
   ]
  },
  {
   "cell_type": "code",
   "execution_count": 6,
   "id": "ad8e8fac",
   "metadata": {},
   "outputs": [
    {
     "data": {
      "text/plain": [
       "list"
      ]
     },
     "execution_count": 6,
     "metadata": {},
     "output_type": "execute_result"
    }
   ],
   "source": [
    "type(l)"
   ]
  },
  {
   "cell_type": "code",
   "execution_count": 7,
   "id": "b8b4c2fd",
   "metadata": {},
   "outputs": [],
   "source": [
    "t2=()"
   ]
  },
  {
   "cell_type": "code",
   "execution_count": 8,
   "id": "7b026c15",
   "metadata": {},
   "outputs": [
    {
     "data": {
      "text/plain": [
       "tuple"
      ]
     },
     "execution_count": 8,
     "metadata": {},
     "output_type": "execute_result"
    }
   ],
   "source": [
    "type(t2)"
   ]
  },
  {
   "cell_type": "code",
   "execution_count": 9,
   "id": "fe912162",
   "metadata": {},
   "outputs": [
    {
     "data": {
      "text/plain": [
       "['sach', 123, (4+5j), 123.46, True]"
      ]
     },
     "execution_count": 9,
     "metadata": {},
     "output_type": "execute_result"
    }
   ],
   "source": [
    "l\n"
   ]
  },
  {
   "cell_type": "code",
   "execution_count": 10,
   "id": "00609fad",
   "metadata": {},
   "outputs": [
    {
     "data": {
      "text/plain": [
       "['sach', 123]"
      ]
     },
     "execution_count": 10,
     "metadata": {},
     "output_type": "execute_result"
    }
   ],
   "source": [
    "l[0:2]"
   ]
  },
  {
   "cell_type": "code",
   "execution_count": 11,
   "id": "b5d2454b",
   "metadata": {},
   "outputs": [
    {
     "data": {
      "text/plain": [
       "('sach', 123)"
      ]
     },
     "execution_count": 11,
     "metadata": {},
     "output_type": "execute_result"
    }
   ],
   "source": [
    "t1[0:2]"
   ]
  },
  {
   "cell_type": "code",
   "execution_count": 12,
   "id": "e6080516",
   "metadata": {},
   "outputs": [
    {
     "data": {
      "text/plain": [
       "(True, 123.46, (4+5j), 123, 'sach')"
      ]
     },
     "execution_count": 12,
     "metadata": {},
     "output_type": "execute_result"
    }
   ],
   "source": [
    "t1[::-1]"
   ]
  },
  {
   "cell_type": "code",
   "execution_count": 13,
   "id": "ec694b7e",
   "metadata": {},
   "outputs": [
    {
     "data": {
      "text/plain": [
       "True"
      ]
     },
     "execution_count": 13,
     "metadata": {},
     "output_type": "execute_result"
    }
   ],
   "source": [
    "t1[-1]"
   ]
  },
  {
   "cell_type": "code",
   "execution_count": 14,
   "id": "b8a99865",
   "metadata": {},
   "outputs": [
    {
     "data": {
      "text/plain": [
       "('sach', 123, (4+5j), 123.46, True)"
      ]
     },
     "execution_count": 14,
     "metadata": {},
     "output_type": "execute_result"
    }
   ],
   "source": [
    "t1"
   ]
  },
  {
   "cell_type": "code",
   "execution_count": 15,
   "id": "c275a5d3",
   "metadata": {},
   "outputs": [
    {
     "data": {
      "text/plain": [
       "('sach', (4+5j), True)"
      ]
     },
     "execution_count": 15,
     "metadata": {},
     "output_type": "execute_result"
    }
   ],
   "source": [
    "t1[0::2]"
   ]
  },
  {
   "cell_type": "code",
   "execution_count": 16,
   "id": "6f1a731e",
   "metadata": {},
   "outputs": [
    {
     "data": {
      "text/plain": [
       "['sach', 123, (4+5j), 123.46, True]"
      ]
     },
     "execution_count": 16,
     "metadata": {},
     "output_type": "execute_result"
    }
   ],
   "source": [
    "l"
   ]
  },
  {
   "cell_type": "code",
   "execution_count": 17,
   "id": "b7240143",
   "metadata": {},
   "outputs": [],
   "source": [
    "l1=(4,5,6,7)"
   ]
  },
  {
   "cell_type": "code",
   "execution_count": 18,
   "id": "51e5a755",
   "metadata": {},
   "outputs": [],
   "source": [
    "l[0]=\"kara\""
   ]
  },
  {
   "cell_type": "code",
   "execution_count": 19,
   "id": "f19dd756",
   "metadata": {},
   "outputs": [
    {
     "data": {
      "text/plain": [
       "['kara', 123, (4+5j), 123.46, True]"
      ]
     },
     "execution_count": 19,
     "metadata": {},
     "output_type": "execute_result"
    }
   ],
   "source": [
    "l"
   ]
  },
  {
   "cell_type": "code",
   "execution_count": 20,
   "id": "f8a9fa8c",
   "metadata": {},
   "outputs": [
    {
     "ename": "TypeError",
     "evalue": "'tuple' object does not support item assignment",
     "output_type": "error",
     "traceback": [
      "\u001b[1;31m---------------------------------------------------------------------------\u001b[0m",
      "\u001b[1;31mTypeError\u001b[0m                                 Traceback (most recent call last)",
      "\u001b[1;32mC:\\Users\\SACHIN~1\\AppData\\Local\\Temp/ipykernel_7764/3644338778.py\u001b[0m in \u001b[0;36m<module>\u001b[1;34m\u001b[0m\n\u001b[1;32m----> 1\u001b[1;33m \u001b[0mt1\u001b[0m\u001b[1;33m[\u001b[0m\u001b[1;36m0\u001b[0m\u001b[1;33m]\u001b[0m\u001b[1;33m=\u001b[0m\u001b[1;34m\"xyz\"\u001b[0m\u001b[1;33m\u001b[0m\u001b[1;33m\u001b[0m\u001b[0m\n\u001b[0m",
      "\u001b[1;31mTypeError\u001b[0m: 'tuple' object does not support item assignment"
     ]
    }
   ],
   "source": [
    "t1[0]=\"xyz\""
   ]
  },
  {
   "cell_type": "code",
   "execution_count": 66,
   "id": "71635d90",
   "metadata": {},
   "outputs": [],
   "source": [
    "s=\"sach\""
   ]
  },
  {
   "cell_type": "code",
   "execution_count": 30,
   "id": "38655599",
   "metadata": {},
   "outputs": [
    {
     "ename": "TypeError",
     "evalue": "'str' object does not support item assignment",
     "output_type": "error",
     "traceback": [
      "\u001b[1;31m---------------------------------------------------------------------------\u001b[0m",
      "\u001b[1;31mTypeError\u001b[0m                                 Traceback (most recent call last)",
      "\u001b[1;32mC:\\Users\\SACHIN~1\\AppData\\Local\\Temp/ipykernel_7764/352522310.py\u001b[0m in \u001b[0;36m<module>\u001b[1;34m\u001b[0m\n\u001b[1;32m----> 1\u001b[1;33m \u001b[0ms\u001b[0m\u001b[1;33m[\u001b[0m\u001b[1;36m0\u001b[0m\u001b[1;33m]\u001b[0m\u001b[1;33m=\u001b[0m\u001b[1;36m45\u001b[0m\u001b[1;33m\u001b[0m\u001b[1;33m\u001b[0m\u001b[0m\n\u001b[0m",
      "\u001b[1;31mTypeError\u001b[0m: 'str' object does not support item assignment"
     ]
    }
   ],
   "source": [
    "s[0]=45"
   ]
  },
  {
   "cell_type": "code",
   "execution_count": 31,
   "id": "9e71189b",
   "metadata": {},
   "outputs": [
    {
     "ename": "TypeError",
     "evalue": "'str' object does not support item assignment",
     "output_type": "error",
     "traceback": [
      "\u001b[1;31m---------------------------------------------------------------------------\u001b[0m",
      "\u001b[1;31mTypeError\u001b[0m                                 Traceback (most recent call last)",
      "\u001b[1;32mC:\\Users\\SACHIN~1\\AppData\\Local\\Temp/ipykernel_7764/2606479935.py\u001b[0m in \u001b[0;36m<module>\u001b[1;34m\u001b[0m\n\u001b[1;32m----> 1\u001b[1;33m \u001b[0ms\u001b[0m\u001b[1;33m[\u001b[0m\u001b[1;36m0\u001b[0m\u001b[1;33m]\u001b[0m\u001b[1;33m=\u001b[0m\u001b[1;34m\"sach\"\u001b[0m\u001b[1;33m\u001b[0m\u001b[1;33m\u001b[0m\u001b[0m\n\u001b[0m",
      "\u001b[1;31mTypeError\u001b[0m: 'str' object does not support item assignment"
     ]
    }
   ],
   "source": [
    "s[0]=\"sach\""
   ]
  },
  {
   "cell_type": "markdown",
   "id": "4de82373",
   "metadata": {},
   "source": [
    "t1 "
   ]
  },
  {
   "cell_type": "code",
   "execution_count": 28,
   "id": "fbf1e296",
   "metadata": {},
   "outputs": [
    {
     "data": {
      "text/plain": [
       "('sach', 123, (4+5j), 123.46, True)"
      ]
     },
     "execution_count": 28,
     "metadata": {},
     "output_type": "execute_result"
    }
   ],
   "source": [
    "t1"
   ]
  },
  {
   "cell_type": "code",
   "execution_count": 33,
   "id": "267cfd10",
   "metadata": {},
   "outputs": [],
   "source": [
    "t2=(12,23,34,45)"
   ]
  },
  {
   "cell_type": "code",
   "execution_count": 34,
   "id": "1e6a8e5d",
   "metadata": {},
   "outputs": [
    {
     "data": {
      "text/plain": [
       "('sach', 123, (4+5j), 123.46, True, 12, 23, 34, 45)"
      ]
     },
     "execution_count": 34,
     "metadata": {},
     "output_type": "execute_result"
    }
   ],
   "source": [
    "t1+t2"
   ]
  },
  {
   "cell_type": "code",
   "execution_count": 35,
   "id": "5e3d3529",
   "metadata": {},
   "outputs": [
    {
     "data": {
      "text/plain": [
       "[1, 2, 3, 4, 5, 67, 89, 45, 87, 35, 78, 9, 1, 45, 1, 2, 3]"
      ]
     },
     "execution_count": 35,
     "metadata": {},
     "output_type": "execute_result"
    }
   ],
   "source": [
    "l"
   ]
  },
  {
   "cell_type": "code",
   "execution_count": 36,
   "id": "79cc3a64",
   "metadata": {},
   "outputs": [],
   "source": [
    "l1=[4,5,6,7]"
   ]
  },
  {
   "cell_type": "code",
   "execution_count": 37,
   "id": "dbfb5adb",
   "metadata": {},
   "outputs": [
    {
     "data": {
      "text/plain": [
       "[1, 2, 3, 4, 5, 67, 89, 45, 87, 35, 78, 9, 1, 45, 1, 2, 3, 4, 5, 6, 7]"
      ]
     },
     "execution_count": 37,
     "metadata": {},
     "output_type": "execute_result"
    }
   ],
   "source": [
    "l+l1"
   ]
  },
  {
   "cell_type": "code",
   "execution_count": 38,
   "id": "b617ae47",
   "metadata": {},
   "outputs": [
    {
     "data": {
      "text/plain": [
       "('sach', 123, (4+5j), 123.46, True, 'sach', 123, (4+5j), 123.46, True)"
      ]
     },
     "execution_count": 38,
     "metadata": {},
     "output_type": "execute_result"
    }
   ],
   "source": [
    "t1*2"
   ]
  },
  {
   "cell_type": "code",
   "execution_count": 21,
   "id": "08287431",
   "metadata": {},
   "outputs": [
    {
     "data": {
      "text/plain": [
       "1"
      ]
     },
     "execution_count": 21,
     "metadata": {},
     "output_type": "execute_result"
    }
   ],
   "source": [
    "t1.count(\"sach\")"
   ]
  },
  {
   "cell_type": "code",
   "execution_count": 41,
   "id": "f5555d78",
   "metadata": {},
   "outputs": [
    {
     "data": {
      "text/plain": [
       "0"
      ]
     },
     "execution_count": 41,
     "metadata": {},
     "output_type": "execute_result"
    }
   ],
   "source": [
    "t1.index(\"sach\")"
   ]
  },
  {
   "cell_type": "code",
   "execution_count": 42,
   "id": "4f65ddb9",
   "metadata": {},
   "outputs": [
    {
     "data": {
      "text/plain": [
       "('sach', 123, (4+5j), 123.46, True)"
      ]
     },
     "execution_count": 42,
     "metadata": {},
     "output_type": "execute_result"
    }
   ],
   "source": [
    "t1"
   ]
  },
  {
   "cell_type": "code",
   "execution_count": 43,
   "id": "dd108c30",
   "metadata": {},
   "outputs": [],
   "source": [
    "#nested tuples\n",
    "t=(45,56,57,89,(4,5,6,7),\"sach\")"
   ]
  },
  {
   "cell_type": "code",
   "execution_count": 44,
   "id": "3b991f7e",
   "metadata": {},
   "outputs": [
    {
     "data": {
      "text/plain": [
       "(45, 56, 57, 89, (4, 5, 6, 7), 'sach')"
      ]
     },
     "execution_count": 44,
     "metadata": {},
     "output_type": "execute_result"
    }
   ],
   "source": [
    "t"
   ]
  },
  {
   "cell_type": "code",
   "execution_count": 47,
   "id": "67a2e6db",
   "metadata": {},
   "outputs": [
    {
     "data": {
      "text/plain": [
       "tuple"
      ]
     },
     "execution_count": 47,
     "metadata": {},
     "output_type": "execute_result"
    }
   ],
   "source": [
    "type(t)"
   ]
  },
  {
   "cell_type": "code",
   "execution_count": 48,
   "id": "e702283c",
   "metadata": {},
   "outputs": [
    {
     "data": {
      "text/plain": [
       "(45, 56, 57, 89, (4, 5, 6, 7), 'sach')"
      ]
     },
     "execution_count": 48,
     "metadata": {},
     "output_type": "execute_result"
    }
   ],
   "source": [
    "t"
   ]
  },
  {
   "cell_type": "code",
   "execution_count": 49,
   "id": "3331e11a",
   "metadata": {},
   "outputs": [],
   "source": [
    "t1=([1,2,3,4],(\"sach\",456.345),\"kara\")"
   ]
  },
  {
   "cell_type": "code",
   "execution_count": 50,
   "id": "3bf83ef3",
   "metadata": {},
   "outputs": [
    {
     "data": {
      "text/plain": [
       "tuple"
      ]
     },
     "execution_count": 50,
     "metadata": {},
     "output_type": "execute_result"
    }
   ],
   "source": [
    "type(t1)"
   ]
  },
  {
   "cell_type": "code",
   "execution_count": 51,
   "id": "21f51719",
   "metadata": {},
   "outputs": [
    {
     "data": {
      "text/plain": [
       "([1, 2, 3, 4], ('sach', 456.345), 'kara')"
      ]
     },
     "execution_count": 51,
     "metadata": {},
     "output_type": "execute_result"
    }
   ],
   "source": [
    "t1"
   ]
  },
  {
   "cell_type": "code",
   "execution_count": 52,
   "id": "6060a989",
   "metadata": {},
   "outputs": [],
   "source": [
    "#list is mutable\n",
    "t1[0][2]=\"sach\""
   ]
  },
  {
   "cell_type": "code",
   "execution_count": 53,
   "id": "c8efb543",
   "metadata": {},
   "outputs": [
    {
     "data": {
      "text/plain": [
       "([1, 2, 'sach', 4], ('sach', 456.345), 'kara')"
      ]
     },
     "execution_count": 53,
     "metadata": {},
     "output_type": "execute_result"
    }
   ],
   "source": [
    "t1"
   ]
  },
  {
   "cell_type": "code",
   "execution_count": 54,
   "id": "dd1483fd",
   "metadata": {
    "scrolled": true
   },
   "outputs": [
    {
     "ename": "TypeError",
     "evalue": "'tuple' object does not support item assignment",
     "output_type": "error",
     "traceback": [
      "\u001b[1;31m---------------------------------------------------------------------------\u001b[0m",
      "\u001b[1;31mTypeError\u001b[0m                                 Traceback (most recent call last)",
      "\u001b[1;32mC:\\Users\\SACHIN~1\\AppData\\Local\\Temp/ipykernel_7764/3364197532.py\u001b[0m in \u001b[0;36m<module>\u001b[1;34m\u001b[0m\n\u001b[0;32m      1\u001b[0m \u001b[1;31m#tuple is unmutable\u001b[0m\u001b[1;33m\u001b[0m\u001b[1;33m\u001b[0m\u001b[0m\n\u001b[1;32m----> 2\u001b[1;33m \u001b[0mt1\u001b[0m\u001b[1;33m[\u001b[0m\u001b[1;36m2\u001b[0m\u001b[1;33m]\u001b[0m\u001b[1;33m=\u001b[0m\u001b[1;34m\"sach\"\u001b[0m\u001b[1;33m\u001b[0m\u001b[1;33m\u001b[0m\u001b[0m\n\u001b[0m",
      "\u001b[1;31mTypeError\u001b[0m: 'tuple' object does not support item assignment"
     ]
    }
   ],
   "source": [
    "#tuple is unmutable\n",
    "t1[2]=\"sach\""
   ]
  },
  {
   "cell_type": "code",
   "execution_count": 55,
   "id": "4e57fca1",
   "metadata": {},
   "outputs": [],
   "source": [
    "t3=(45,56,87,89)"
   ]
  },
  {
   "cell_type": "code",
   "execution_count": 56,
   "id": "6e25fd2b",
   "metadata": {},
   "outputs": [
    {
     "data": {
      "text/plain": [
       "[45, 56, 87, 89]"
      ]
     },
     "execution_count": 56,
     "metadata": {},
     "output_type": "execute_result"
    }
   ],
   "source": [
    "list(t3)"
   ]
  },
  {
   "cell_type": "code",
   "execution_count": 57,
   "id": "5671a6bf",
   "metadata": {},
   "outputs": [
    {
     "data": {
      "text/plain": [
       "(45, 56, 87, 89)"
      ]
     },
     "execution_count": 57,
     "metadata": {},
     "output_type": "execute_result"
    }
   ],
   "source": [
    "t3"
   ]
  },
  {
   "cell_type": "code",
   "execution_count": 58,
   "id": "d00832b5",
   "metadata": {},
   "outputs": [
    {
     "data": {
      "text/plain": [
       "[4, 5, 6, 7]"
      ]
     },
     "execution_count": 58,
     "metadata": {},
     "output_type": "execute_result"
    }
   ],
   "source": [
    "l1"
   ]
  },
  {
   "cell_type": "code",
   "execution_count": 59,
   "id": "3c44504b",
   "metadata": {},
   "outputs": [
    {
     "data": {
      "text/plain": [
       "(4, 5, 6, 7)"
      ]
     },
     "execution_count": 59,
     "metadata": {},
     "output_type": "execute_result"
    }
   ],
   "source": [
    "tuple(l1)"
   ]
  },
  {
   "cell_type": "code",
   "execution_count": null,
   "id": "9fe1cbe8",
   "metadata": {},
   "outputs": [],
   "source": [
    "#### SET ####"
   ]
  },
  {
   "cell_type": "code",
   "execution_count": 60,
   "id": "2153f1c8",
   "metadata": {},
   "outputs": [],
   "source": [
    "l=[1,2,3,4,5,67,89,45,87,35,78,9,1,45,1,2,3]"
   ]
  },
  {
   "cell_type": "code",
   "execution_count": 61,
   "id": "b4ec287d",
   "metadata": {},
   "outputs": [
    {
     "data": {
      "text/plain": [
       "{1, 2, 3, 4, 5, 9, 35, 45, 67, 78, 87, 89}"
      ]
     },
     "execution_count": 61,
     "metadata": {},
     "output_type": "execute_result"
    }
   ],
   "source": [
    "set(l)"
   ]
  },
  {
   "cell_type": "code",
   "execution_count": 62,
   "id": "8080a843",
   "metadata": {},
   "outputs": [],
   "source": [
    "s={}"
   ]
  },
  {
   "cell_type": "code",
   "execution_count": 63,
   "id": "0a7f9db9",
   "metadata": {},
   "outputs": [
    {
     "data": {
      "text/plain": [
       "dict"
      ]
     },
     "execution_count": 63,
     "metadata": {},
     "output_type": "execute_result"
    }
   ],
   "source": [
    "type(s)"
   ]
  },
  {
   "cell_type": "code",
   "execution_count": 64,
   "id": "06fe40dc",
   "metadata": {},
   "outputs": [],
   "source": [
    "s1={2,3,4}"
   ]
  },
  {
   "cell_type": "code",
   "execution_count": 65,
   "id": "8a2a407b",
   "metadata": {},
   "outputs": [
    {
     "data": {
      "text/plain": [
       "set"
      ]
     },
     "execution_count": 65,
     "metadata": {},
     "output_type": "execute_result"
    }
   ],
   "source": [
    "type(s1)"
   ]
  },
  {
   "cell_type": "code",
   "execution_count": 68,
   "id": "7a7418dc",
   "metadata": {},
   "outputs": [],
   "source": [
    "s2={1,1,1,2,2,2,5,5,5,7,8,8,8,8}\n",
    "    \n",
    "    "
   ]
  },
  {
   "cell_type": "code",
   "execution_count": 69,
   "id": "d09b1ca5",
   "metadata": {},
   "outputs": [
    {
     "data": {
      "text/plain": [
       "{1, 2, 5, 7, 8}"
      ]
     },
     "execution_count": 69,
     "metadata": {},
     "output_type": "execute_result"
    }
   ],
   "source": [
    "s2"
   ]
  },
  {
   "cell_type": "code",
   "execution_count": 70,
   "id": "ec907aaf",
   "metadata": {},
   "outputs": [
    {
     "ename": "TypeError",
     "evalue": "'set' object is not subscriptable",
     "output_type": "error",
     "traceback": [
      "\u001b[1;31m---------------------------------------------------------------------------\u001b[0m",
      "\u001b[1;31mTypeError\u001b[0m                                 Traceback (most recent call last)",
      "\u001b[1;32mC:\\Users\\SACHIN~1\\AppData\\Local\\Temp/ipykernel_7764/2344841457.py\u001b[0m in \u001b[0;36m<module>\u001b[1;34m\u001b[0m\n\u001b[1;32m----> 1\u001b[1;33m \u001b[0ms2\u001b[0m\u001b[1;33m[\u001b[0m\u001b[1;36m0\u001b[0m\u001b[1;33m]\u001b[0m\u001b[1;33m\u001b[0m\u001b[1;33m\u001b[0m\u001b[0m\n\u001b[0m",
      "\u001b[1;31mTypeError\u001b[0m: 'set' object is not subscriptable"
     ]
    }
   ],
   "source": [
    "s2[0]"
   ]
  },
  {
   "cell_type": "code",
   "execution_count": 71,
   "id": "4d7a6c2e",
   "metadata": {},
   "outputs": [
    {
     "data": {
      "text/plain": [
       "[1, 2, 5, 7, 8]"
      ]
     },
     "execution_count": 71,
     "metadata": {},
     "output_type": "execute_result"
    }
   ],
   "source": [
    "list(s2)"
   ]
  },
  {
   "cell_type": "code",
   "execution_count": 72,
   "id": "29299435",
   "metadata": {},
   "outputs": [],
   "source": [
    "s2.add(89777)"
   ]
  },
  {
   "cell_type": "code",
   "execution_count": 73,
   "id": "daa6ef92",
   "metadata": {},
   "outputs": [
    {
     "data": {
      "text/plain": [
       "{1, 2, 5, 7, 8, 89777}"
      ]
     },
     "execution_count": 73,
     "metadata": {},
     "output_type": "execute_result"
    }
   ],
   "source": [
    "s2"
   ]
  },
  {
   "cell_type": "code",
   "execution_count": 74,
   "id": "b6ce738c",
   "metadata": {},
   "outputs": [],
   "source": [
    "s2.add(\"sach\")"
   ]
  },
  {
   "cell_type": "code",
   "execution_count": 75,
   "id": "f526c7b2",
   "metadata": {},
   "outputs": [
    {
     "data": {
      "text/plain": [
       "{1, 2, 5, 7, 8, 89777, 'sach'}"
      ]
     },
     "execution_count": 75,
     "metadata": {},
     "output_type": "execute_result"
    }
   ],
   "source": [
    "s2"
   ]
  },
  {
   "cell_type": "code",
   "execution_count": 76,
   "id": "5ee2edc1",
   "metadata": {},
   "outputs": [
    {
     "ename": "TypeError",
     "evalue": "unhashable type: 'list'",
     "output_type": "error",
     "traceback": [
      "\u001b[1;31m---------------------------------------------------------------------------\u001b[0m",
      "\u001b[1;31mTypeError\u001b[0m                                 Traceback (most recent call last)",
      "\u001b[1;32mC:\\Users\\SACHIN~1\\AppData\\Local\\Temp/ipykernel_7764/865997819.py\u001b[0m in \u001b[0;36m<module>\u001b[1;34m\u001b[0m\n\u001b[1;32m----> 1\u001b[1;33m \u001b[0ms2\u001b[0m\u001b[1;33m.\u001b[0m\u001b[0madd\u001b[0m\u001b[1;33m(\u001b[0m\u001b[1;33m[\u001b[0m\u001b[1;36m3\u001b[0m\u001b[1;33m,\u001b[0m\u001b[1;36m4\u001b[0m\u001b[1;33m,\u001b[0m\u001b[1;36m5\u001b[0m\u001b[1;33m,\u001b[0m\u001b[1;36m6\u001b[0m\u001b[1;33m]\u001b[0m\u001b[1;33m)\u001b[0m\u001b[1;33m\u001b[0m\u001b[1;33m\u001b[0m\u001b[0m\n\u001b[0m",
      "\u001b[1;31mTypeError\u001b[0m: unhashable type: 'list'"
     ]
    }
   ],
   "source": [
    "s2.add([3,4,5,6])"
   ]
  },
  {
   "cell_type": "code",
   "execution_count": 78,
   "id": "f0abe7ac",
   "metadata": {},
   "outputs": [],
   "source": [
    "s={(3,4,5,6),4,5,8,7}"
   ]
  },
  {
   "cell_type": "code",
   "execution_count": 79,
   "id": "cdebc33f",
   "metadata": {},
   "outputs": [
    {
     "data": {
      "text/plain": [
       "{(3, 4, 5, 6), 4, 5, 7, 8}"
      ]
     },
     "execution_count": 79,
     "metadata": {},
     "output_type": "execute_result"
    }
   ],
   "source": [
    "s"
   ]
  },
  {
   "cell_type": "code",
   "execution_count": 80,
   "id": "ca172e35",
   "metadata": {},
   "outputs": [],
   "source": [
    "s.remove(4)"
   ]
  },
  {
   "cell_type": "code",
   "execution_count": 81,
   "id": "b8c65b20",
   "metadata": {},
   "outputs": [
    {
     "data": {
      "text/plain": [
       "{(3, 4, 5, 6), 5, 7, 8}"
      ]
     },
     "execution_count": 81,
     "metadata": {},
     "output_type": "execute_result"
    }
   ],
   "source": [
    "s"
   ]
  },
  {
   "cell_type": "code",
   "execution_count": null,
   "id": "84703fcd",
   "metadata": {},
   "outputs": [],
   "source": []
  }
 ],
 "metadata": {
  "kernelspec": {
   "display_name": "Python 3 (ipykernel)",
   "language": "python",
   "name": "python3"
  },
  "language_info": {
   "codemirror_mode": {
    "name": "ipython",
    "version": 3
   },
   "file_extension": ".py",
   "mimetype": "text/x-python",
   "name": "python",
   "nbconvert_exporter": "python",
   "pygments_lexer": "ipython3",
   "version": "3.9.7"
  }
 },
 "nbformat": 4,
 "nbformat_minor": 5
}
