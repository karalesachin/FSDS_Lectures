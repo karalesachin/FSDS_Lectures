{
 "cells": [
  {
   "cell_type": "code",
   "execution_count": 5,
   "id": "7dd4302e",
   "metadata": {},
   "outputs": [
    {
     "name": "stdout",
     "output_type": "stream",
     "text": [
      "sach\n"
     ]
    }
   ],
   "source": [
    "print(\"sach\")"
   ]
  },
  {
   "cell_type": "code",
   "execution_count": 6,
   "id": "7ed174f8",
   "metadata": {},
   "outputs": [],
   "source": [
    "f=open(\"test.txt\",\"w\")"
   ]
  },
  {
   "cell_type": "code",
   "execution_count": 7,
   "id": "36639af3",
   "metadata": {},
   "outputs": [
    {
     "data": {
      "text/plain": [
       "'C:\\\\Users\\\\Sachin Karale'"
      ]
     },
     "execution_count": 7,
     "metadata": {},
     "output_type": "execute_result"
    }
   ],
   "source": [
    "pwd()"
   ]
  },
  {
   "cell_type": "code",
   "execution_count": 8,
   "id": "1c59cb1a",
   "metadata": {},
   "outputs": [
    {
     "name": "stdout",
     "output_type": "stream",
     "text": [
      " Volume in drive C is OS\n",
      " Volume Serial Number is C6BD-A9FB\n",
      "\n",
      " Directory of C:\\Users\\Sachin Karale\n",
      "\n",
      "20-12-2021  23:12            33,988 (IF_ELIF_ELSE)_WHILE_(FOR_ELSE).ipynb\n",
      "09-01-2022  12:36    <DIR>          .\n",
      "09-01-2022  12:36    <DIR>          ..\n",
      "04-12-2021  10:27    <DIR>          .conda\n",
      "04-12-2021  10:25                25 .condarc\n",
      "04-12-2021  10:25    <DIR>          .continuum\n",
      "09-01-2022  10:22    <DIR>          .ipynb_checkpoints\n",
      "04-12-2021  10:39    <DIR>          .ipython\n",
      "19-12-2021  11:23    <DIR>          .jupyter\n",
      "29-11-2021  22:05    <DIR>          3D Objects\n",
      "04-12-2021  09:58    <DIR>          Anaconda3\n",
      "29-11-2021  22:05    <DIR>          Contacts\n",
      "26-12-2021  22:03    <DIR>          Desktop\n",
      "03-01-2022  20:57    <DIR>          Documents\n",
      "09-01-2022  10:29    <DIR>          Downloads\n",
      "29-11-2021  22:05    <DIR>          Favorites\n",
      "08-01-2022  10:19            24,233 Function.ipynb\n",
      "09-01-2022  11:47        12,694,422 Function1.ipynb\n",
      "09-01-2022  12:34             2,077 google.txt\n",
      "29-11-2021  22:05    <DIR>          Links\n",
      "21-12-2021  22:12            15,392 Loop_Practice.ipynb\n",
      "29-11-2021  22:05    <DIR>          Music\n",
      "09-01-2022  09:59    <DIR>          OneDrive\n",
      "19-12-2021  16:16    <DIR>          Pictures\n",
      "12-12-2021  13:26           119,672 Python Basic.ipynb\n",
      "29-11-2021  22:05    <DIR>          Saved Games\n",
      "29-11-2021  22:06    <DIR>          Searches\n",
      "09-01-2022  12:37                 0 test.txt\n",
      "09-01-2022  12:32                61 test1.txt\n",
      "09-01-2022  12:32                50 test2.txt\n",
      "19-12-2021  10:20            24,099 Tuples, Set.ipynb\n",
      "09-01-2022  12:36            19,259 Untitled.ipynb\n",
      "04-12-2021  10:55               928 Untitled1.ipynb\n",
      "04-12-2021  14:42            50,145 Untitled4.ipynb\n",
      "29-11-2021  20:17    <DIR>          Videos\n",
      "              14 File(s)     12,984,351 bytes\n",
      "              21 Dir(s)  101,176,729,600 bytes free\n"
     ]
    }
   ],
   "source": [
    "%ls"
   ]
  },
  {
   "cell_type": "code",
   "execution_count": 140,
   "id": "100bf54a",
   "metadata": {},
   "outputs": [],
   "source": [
    "f=open(\"test1.txt\",\"w\")"
   ]
  },
  {
   "cell_type": "code",
   "execution_count": 141,
   "id": "68a6c78e",
   "metadata": {},
   "outputs": [
    {
     "data": {
      "text/plain": [
       "61"
      ]
     },
     "execution_count": 141,
     "metadata": {},
     "output_type": "execute_result"
    }
   ],
   "source": [
    "f.write(\"This is my first file operation to something in my test1.txt.\")"
   ]
  },
  {
   "cell_type": "code",
   "execution_count": 142,
   "id": "6f17a607",
   "metadata": {},
   "outputs": [],
   "source": [
    "f.close()"
   ]
  },
  {
   "cell_type": "code",
   "execution_count": 136,
   "id": "5bcc8168",
   "metadata": {},
   "outputs": [
    {
     "name": "stdout",
     "output_type": "stream",
     "text": [
      "Overwriting test2.txt\n"
     ]
    }
   ],
   "source": [
    "%%writefile test2.txt\n",
    "This is a data I would like to store in my file."
   ]
  },
  {
   "cell_type": "code",
   "execution_count": 143,
   "id": "ff8ca232",
   "metadata": {},
   "outputs": [],
   "source": [
    "f=open('test1.txt',\"w\")"
   ]
  },
  {
   "cell_type": "code",
   "execution_count": 144,
   "id": "fa8415ae",
   "metadata": {},
   "outputs": [
    {
     "ename": "UnsupportedOperation",
     "evalue": "not readable",
     "output_type": "error",
     "traceback": [
      "\u001b[1;31m---------------------------------------------------------------------------\u001b[0m",
      "\u001b[1;31mUnsupportedOperation\u001b[0m                      Traceback (most recent call last)",
      "\u001b[1;32mC:\\Users\\SACHIN~1\\AppData\\Local\\Temp/ipykernel_6336/3059900045.py\u001b[0m in \u001b[0;36m<module>\u001b[1;34m\u001b[0m\n\u001b[1;32m----> 1\u001b[1;33m \u001b[0mf\u001b[0m\u001b[1;33m.\u001b[0m\u001b[0mread\u001b[0m\u001b[1;33m(\u001b[0m\u001b[1;33m)\u001b[0m\u001b[1;33m\u001b[0m\u001b[1;33m\u001b[0m\u001b[0m\n\u001b[0m",
      "\u001b[1;31mUnsupportedOperation\u001b[0m: not readable"
     ]
    }
   ],
   "source": [
    "f.read()"
   ]
  },
  {
   "cell_type": "code",
   "execution_count": 145,
   "id": "f2589013",
   "metadata": {},
   "outputs": [
    {
     "data": {
      "text/plain": [
       "12"
      ]
     },
     "execution_count": 145,
     "metadata": {},
     "output_type": "execute_result"
    }
   ],
   "source": [
    "f.write(\"include text\")"
   ]
  },
  {
   "cell_type": "code",
   "execution_count": 147,
   "id": "66ab2a8a",
   "metadata": {},
   "outputs": [],
   "source": [
    "f.close()"
   ]
  },
  {
   "cell_type": "code",
   "execution_count": 148,
   "id": "21ecfed4",
   "metadata": {},
   "outputs": [
    {
     "ename": "ValueError",
     "evalue": "I/O operation on closed file.",
     "output_type": "error",
     "traceback": [
      "\u001b[1;31m---------------------------------------------------------------------------\u001b[0m",
      "\u001b[1;31mValueError\u001b[0m                                Traceback (most recent call last)",
      "\u001b[1;32mC:\\Users\\SACHIN~1\\AppData\\Local\\Temp/ipykernel_6336/3059900045.py\u001b[0m in \u001b[0;36m<module>\u001b[1;34m\u001b[0m\n\u001b[1;32m----> 1\u001b[1;33m \u001b[0mf\u001b[0m\u001b[1;33m.\u001b[0m\u001b[0mread\u001b[0m\u001b[1;33m(\u001b[0m\u001b[1;33m)\u001b[0m\u001b[1;33m\u001b[0m\u001b[1;33m\u001b[0m\u001b[0m\n\u001b[0m",
      "\u001b[1;31mValueError\u001b[0m: I/O operation on closed file."
     ]
    }
   ],
   "source": [
    "f.read()"
   ]
  },
  {
   "cell_type": "code",
   "execution_count": 17,
   "id": "aa93ae83",
   "metadata": {},
   "outputs": [
    {
     "data": {
      "text/plain": [
       "5"
      ]
     },
     "execution_count": 17,
     "metadata": {},
     "output_type": "execute_result"
    }
   ],
   "source": [
    "f.seek(5)"
   ]
  },
  {
   "cell_type": "code",
   "execution_count": 18,
   "id": "9e81d770",
   "metadata": {},
   "outputs": [
    {
     "data": {
      "text/plain": [
       "'is my first file operation to something in my test1.txt.'"
      ]
     },
     "execution_count": 18,
     "metadata": {},
     "output_type": "execute_result"
    }
   ],
   "source": [
    "f.read()"
   ]
  },
  {
   "cell_type": "code",
   "execution_count": 19,
   "id": "7156dff4",
   "metadata": {},
   "outputs": [
    {
     "data": {
      "text/plain": [
       "0"
      ]
     },
     "execution_count": 19,
     "metadata": {},
     "output_type": "execute_result"
    }
   ],
   "source": [
    "f.seek(0)"
   ]
  },
  {
   "cell_type": "code",
   "execution_count": 20,
   "id": "dd083ab8",
   "metadata": {},
   "outputs": [
    {
     "data": {
      "text/plain": [
       "'This is my first file operation to something in my test1.txt.'"
      ]
     },
     "execution_count": 20,
     "metadata": {},
     "output_type": "execute_result"
    }
   ],
   "source": [
    "f.read()"
   ]
  },
  {
   "cell_type": "code",
   "execution_count": 21,
   "id": "fda75720",
   "metadata": {},
   "outputs": [
    {
     "data": {
      "text/plain": [
       "61"
      ]
     },
     "execution_count": 21,
     "metadata": {},
     "output_type": "execute_result"
    }
   ],
   "source": [
    "f.tell()"
   ]
  },
  {
   "cell_type": "code",
   "execution_count": 22,
   "id": "b50df12d",
   "metadata": {},
   "outputs": [
    {
     "data": {
      "text/plain": [
       "0"
      ]
     },
     "execution_count": 22,
     "metadata": {},
     "output_type": "execute_result"
    }
   ],
   "source": [
    "f.seek(0)"
   ]
  },
  {
   "cell_type": "code",
   "execution_count": 23,
   "id": "51c42316",
   "metadata": {
    "scrolled": true
   },
   "outputs": [
    {
     "data": {
      "text/plain": [
       "0"
      ]
     },
     "execution_count": 23,
     "metadata": {},
     "output_type": "execute_result"
    }
   ],
   "source": [
    "f.tell()"
   ]
  },
  {
   "cell_type": "code",
   "execution_count": 24,
   "id": "fd0cf14c",
   "metadata": {},
   "outputs": [],
   "source": [
    "f.close()"
   ]
  },
  {
   "cell_type": "code",
   "execution_count": 25,
   "id": "c11bde3b",
   "metadata": {},
   "outputs": [],
   "source": [
    "f=open(\"test1.txt\",\"r+\")"
   ]
  },
  {
   "cell_type": "code",
   "execution_count": 26,
   "id": "e86d7089",
   "metadata": {},
   "outputs": [
    {
     "data": {
      "text/plain": [
       "0"
      ]
     },
     "execution_count": 26,
     "metadata": {},
     "output_type": "execute_result"
    }
   ],
   "source": [
    "f.seek(0)"
   ]
  },
  {
   "cell_type": "code",
   "execution_count": 27,
   "id": "332497d0",
   "metadata": {},
   "outputs": [
    {
     "data": {
      "text/plain": [
       "'This is my first file operation to something in my test1.txt.'"
      ]
     },
     "execution_count": 27,
     "metadata": {},
     "output_type": "execute_result"
    }
   ],
   "source": [
    "f.read()"
   ]
  },
  {
   "cell_type": "code",
   "execution_count": 28,
   "id": "b7d16247",
   "metadata": {},
   "outputs": [
    {
     "data": {
      "text/plain": [
       "0"
      ]
     },
     "execution_count": 28,
     "metadata": {},
     "output_type": "execute_result"
    }
   ],
   "source": [
    "f.seek(0)"
   ]
  },
  {
   "cell_type": "code",
   "execution_count": 29,
   "id": "12d5e7b5",
   "metadata": {},
   "outputs": [
    {
     "data": {
      "text/plain": [
       "'This is my first file operation to something in my test1.txt.'"
      ]
     },
     "execution_count": 29,
     "metadata": {},
     "output_type": "execute_result"
    }
   ],
   "source": [
    "f.readline()"
   ]
  },
  {
   "cell_type": "code",
   "execution_count": 30,
   "id": "b8ec9231",
   "metadata": {},
   "outputs": [
    {
     "data": {
      "text/plain": [
       "0"
      ]
     },
     "execution_count": 30,
     "metadata": {},
     "output_type": "execute_result"
    }
   ],
   "source": [
    "f.seek(0)"
   ]
  },
  {
   "cell_type": "code",
   "execution_count": 31,
   "id": "5ba2932e",
   "metadata": {},
   "outputs": [
    {
     "data": {
      "text/plain": [
       "'This is my first file operation to something in my test1.txt.'"
      ]
     },
     "execution_count": 31,
     "metadata": {},
     "output_type": "execute_result"
    }
   ],
   "source": [
    "f.read()"
   ]
  },
  {
   "cell_type": "code",
   "execution_count": 32,
   "id": "25d7103e",
   "metadata": {},
   "outputs": [
    {
     "data": {
      "text/plain": [
       "0"
      ]
     },
     "execution_count": 32,
     "metadata": {},
     "output_type": "execute_result"
    }
   ],
   "source": [
    "f.seek(0)"
   ]
  },
  {
   "cell_type": "code",
   "execution_count": 33,
   "id": "9c12aba8",
   "metadata": {},
   "outputs": [
    {
     "data": {
      "text/plain": [
       "'This is my first file operation to something in my test1.txt.'"
      ]
     },
     "execution_count": 33,
     "metadata": {},
     "output_type": "execute_result"
    }
   ],
   "source": [
    "f.readline()"
   ]
  },
  {
   "cell_type": "code",
   "execution_count": 34,
   "id": "80b8b670",
   "metadata": {},
   "outputs": [
    {
     "data": {
      "text/plain": [
       "''"
      ]
     },
     "execution_count": 34,
     "metadata": {},
     "output_type": "execute_result"
    }
   ],
   "source": [
    "f.readline()"
   ]
  },
  {
   "cell_type": "code",
   "execution_count": 35,
   "id": "fc2d47b6",
   "metadata": {},
   "outputs": [
    {
     "data": {
      "text/plain": [
       "''"
      ]
     },
     "execution_count": 35,
     "metadata": {},
     "output_type": "execute_result"
    }
   ],
   "source": [
    "f.readline()"
   ]
  },
  {
   "cell_type": "code",
   "execution_count": 77,
   "id": "0ee4ac22",
   "metadata": {},
   "outputs": [],
   "source": [
    "f=open('google.txt',\"r+\")"
   ]
  },
  {
   "cell_type": "code",
   "execution_count": 78,
   "id": "695878be",
   "metadata": {},
   "outputs": [
    {
     "data": {
      "text/plain": [
       "1015"
      ]
     },
     "execution_count": 78,
     "metadata": {},
     "output_type": "execute_result"
    }
   ],
   "source": [
    "f.write(\"\"\"The Power Mac G4 Cube is a personal computer of the Macintosh family sold by Apple from July 2000 to 2001. \n",
    "\n",
    "It was designed by Jonathan Ive and conceived by CEO Steve Jobs as a powerful, miniaturized desktop computer. \n",
    "\n",
    "Apple developed new technologies and manufacturing methods for its 7.7-inch (20 cm) cubic computer housed in clear acrylic glass. \n",
    "\n",
    "The Cube was mid-range, between the consumer iMac G3 and the professional Power Mac G4. \n",
    "\n",
    "It was announced at the Macworld Expo on July 19, 2000. \n",
    "\n",
    "It won awards for its design, but reviews noted the high cost for its power, its limited expandability, and cosmetic defects. It was a commercial failure, selling just 150,000 units before production ended within a year. The Cube was a rare failure for the company under Jobs, after a successful period that brought the company back from the brink of bankruptcy. However, it influenced future Apple products, from the iPod to the Mac mini. New York's Museum of Modern Art holds a G4 Cube as part of its collection.\"\"\")"
   ]
  },
  {
   "cell_type": "code",
   "execution_count": 79,
   "id": "14636430",
   "metadata": {},
   "outputs": [
    {
     "data": {
      "text/plain": [
       "\" The Power Mac G4 Cube is a personal computer of the Macintosh family sold by Apple from July 2000 to 2001. \\n\\nIt was designed by Jonathan Ive and conceived by CEO Steve Jobs as a powerful, miniaturized desktop computer. \\n\\nApple developed new technologies and manufacturing methods for its 7.7-inch (20 cm) cubic computer housed in clear acrylic glass. \\n\\nThe Cube was mid-range, between the consumer iMac G3 and the professional Power Mac G4. \\n\\nIt was announced at the Macworld Expo on July 19, 2000. \\n\\nIt won awards for its design, but reviews noted the high cost for its power, its limited expandability, and cosmetic defects. It was a commercial failure, selling just 150,000 units before production ended within a year. The Cube was a rare failure for the company under Jobs, after a successful period that brought the company back from the brink of bankruptcy. However, it influenced future Apple products, from the iPod to the Mac mini. New York's Museum of Modern Art holds a G4 Cube as part of its collection.this is a file from googlethis is a file from googlethis is a file from google\""
      ]
     },
     "execution_count": 79,
     "metadata": {},
     "output_type": "execute_result"
    }
   ],
   "source": [
    "f.read()"
   ]
  },
  {
   "cell_type": "code",
   "execution_count": 80,
   "id": "edc3b4b5",
   "metadata": {},
   "outputs": [],
   "source": [
    "f.close()"
   ]
  },
  {
   "cell_type": "code",
   "execution_count": 81,
   "id": "f4aad2d0",
   "metadata": {},
   "outputs": [
    {
     "name": "stdout",
     "output_type": "stream",
     "text": [
      "The Power Mac G4 Cube is a personal computer of the Macintosh family sold by Apple from July 2000 to 2001. \n",
      "\n",
      "It was designed by Jonathan Ive and conceived by CEO Steve Jobs as a powerful, miniaturized desktop computer. \n",
      "\n",
      "Apple developed new technologies and manufacturing methods for its 7.7-inch (20 cm) cubic computer housed in clear acrylic glass. \n",
      "\n",
      "The Cube was mid-range, between the consumer iMac G3 and the professional Power Mac G4. \n",
      "\n",
      "It was announced at the Macworld Expo on July 19, 2000. \n",
      "\n",
      "It won awards for its design, but reviews noted the high cost for its power, its limited expandability, and cosmetic defects. It was a commercial failure, selling just 150,000 units before production ended within a year. The Cube was a rare failure for the company under Jobs, after a successful period that brought the company back from the brink of bankruptcy. However, it influenced future Apple products, from the iPod to the Mac mini. New York's Museum of Modern Art holds a G4 Cube as part of its collection. The Power Mac G4 Cube is a personal computer of the Macintosh family sold by Apple from July 2000 to 2001. \n",
      "\n",
      "It was designed by Jonathan Ive and conceived by CEO Steve Jobs as a powerful, miniaturized desktop computer. \n",
      "\n",
      "Apple developed new technologies and manufacturing methods for its 7.7-inch (20 cm) cubic computer housed in clear acrylic glass. \n",
      "\n",
      "The Cube was mid-range, between the consumer iMac G3 and the professional Power Mac G4. \n",
      "\n",
      "It was announced at the Macworld Expo on July 19, 2000. \n",
      "\n",
      "It won awards for its design, but reviews noted the high cost for its power, its limited expandability, and cosmetic defects. It was a commercial failure, selling just 150,000 units before production ended within a year. The Cube was a rare failure for the company under Jobs, after a successful period that brought the company back from the brink of bankruptcy. However, it influenced future Apple products, from the iPod to the Mac mini. New York's Museum of Modern Art holds a G4 Cube as part of its collection.this is a file from googlethis is a file from googlethis is a file from google"
     ]
    }
   ],
   "source": [
    "f=open(\"google.txt\",\"r+\")\n",
    "for line in f:\n",
    "    print(line, end=\"\")"
   ]
  },
  {
   "cell_type": "code",
   "execution_count": 82,
   "id": "8b05d039",
   "metadata": {},
   "outputs": [
    {
     "data": {
      "text/plain": [
       "26"
      ]
     },
     "execution_count": 82,
     "metadata": {},
     "output_type": "execute_result"
    }
   ],
   "source": [
    "f.write(\"this is a file from google\")"
   ]
  },
  {
   "cell_type": "code",
   "execution_count": 83,
   "id": "555aa905",
   "metadata": {},
   "outputs": [],
   "source": [
    "f.close()"
   ]
  },
  {
   "cell_type": "code",
   "execution_count": 84,
   "id": "145864b5",
   "metadata": {},
   "outputs": [
    {
     "data": {
      "text/plain": [
       "5"
      ]
     },
     "execution_count": 84,
     "metadata": {},
     "output_type": "execute_result"
    }
   ],
   "source": [
    "f=open(\"google.txt\", \"r+\")\n",
    "f.seek(5)"
   ]
  },
  {
   "cell_type": "code",
   "execution_count": 85,
   "id": "b1394085",
   "metadata": {},
   "outputs": [
    {
     "data": {
      "text/plain": [
       "37"
      ]
     },
     "execution_count": 85,
     "metadata": {},
     "output_type": "execute_result"
    }
   ],
   "source": [
    "f.write(\"this is my file write at 6th position\")"
   ]
  },
  {
   "cell_type": "code",
   "execution_count": 86,
   "id": "790c52e4",
   "metadata": {},
   "outputs": [],
   "source": [
    "f.close()"
   ]
  },
  {
   "cell_type": "code",
   "execution_count": 87,
   "id": "f1729d56",
   "metadata": {},
   "outputs": [],
   "source": [
    "f=open(\"google.txt\", \"r+\")"
   ]
  },
  {
   "cell_type": "code",
   "execution_count": 88,
   "id": "6a035358",
   "metadata": {},
   "outputs": [
    {
     "data": {
      "text/plain": [
       "21"
      ]
     },
     "execution_count": 88,
     "metadata": {},
     "output_type": "execute_result"
    }
   ],
   "source": [
    "len(f.readlines())"
   ]
  },
  {
   "cell_type": "code",
   "execution_count": 89,
   "id": "6eb9ba5d",
   "metadata": {},
   "outputs": [],
   "source": [
    "l=[]"
   ]
  },
  {
   "cell_type": "code",
   "execution_count": 96,
   "id": "86b9e850",
   "metadata": {},
   "outputs": [
    {
     "data": {
      "text/plain": [
       "0"
      ]
     },
     "execution_count": 96,
     "metadata": {},
     "output_type": "execute_result"
    }
   ],
   "source": [
    "f.seek(0)"
   ]
  },
  {
   "cell_type": "code",
   "execution_count": 97,
   "id": "555625b9",
   "metadata": {},
   "outputs": [],
   "source": [
    "l=f.readlines()"
   ]
  },
  {
   "cell_type": "code",
   "execution_count": 98,
   "id": "c5b80360",
   "metadata": {},
   "outputs": [
    {
     "data": {
      "text/plain": [
       "['The Pthis is my file write at 6th positioner of the Macintosh family sold by Apple from July 2000 to 2001. \\n',\n",
       " '\\n',\n",
       " 'It was designed by Jonathan Ive and conceived by CEO Steve Jobs as a powerful, miniaturized desktop computer. \\n',\n",
       " '\\n',\n",
       " 'Apple developed new technologies and manufacturing methods for its 7.7-inch (20 cm) cubic computer housed in clear acrylic glass. \\n',\n",
       " '\\n',\n",
       " 'The Cube was mid-range, between the consumer iMac G3 and the professional Power Mac G4. \\n',\n",
       " '\\n',\n",
       " 'It was announced at the Macworld Expo on July 19, 2000. \\n',\n",
       " '\\n',\n",
       " \"It won awards for its design, but reviews noted the high cost for its power, its limited expandability, and cosmetic defects. It was a commercial failure, selling just 150,000 units before production ended within a year. The Cube was a rare failure for the company under Jobs, after a successful period that brought the company back from the brink of bankruptcy. However, it influenced future Apple products, from the iPod to the Mac mini. New York's Museum of Modern Art holds a G4 Cube as part of its collection. The Power Mac G4 Cube is a personal computer of the Macintosh family sold by Apple from July 2000 to 2001. \\n\",\n",
       " '\\n',\n",
       " 'It was designed by Jonathan Ive and conceived by CEO Steve Jobs as a powerful, miniaturized desktop computer. \\n',\n",
       " '\\n',\n",
       " 'Apple developed new technologies and manufacturing methods for its 7.7-inch (20 cm) cubic computer housed in clear acrylic glass. \\n',\n",
       " '\\n',\n",
       " 'The Cube was mid-range, between the consumer iMac G3 and the professional Power Mac G4. \\n',\n",
       " '\\n',\n",
       " 'It was announced at the Macworld Expo on July 19, 2000. \\n',\n",
       " '\\n',\n",
       " \"It won awards for its design, but reviews noted the high cost for its power, its limited expandability, and cosmetic defects. It was a commercial failure, selling just 150,000 units before production ended within a year. The Cube was a rare failure for the company under Jobs, after a successful period that brought the company back from the brink of bankruptcy. However, it influenced future Apple products, from the iPod to the Mac mini. New York's Museum of Modern Art holds a G4 Cube as part of its collection.this is a file from googlethis is a file from googlethis is a file from googlethis is a file from google\"]"
      ]
     },
     "execution_count": 98,
     "metadata": {},
     "output_type": "execute_result"
    }
   ],
   "source": [
    "l"
   ]
  },
  {
   "cell_type": "code",
   "execution_count": 101,
   "id": "6b80cc91",
   "metadata": {},
   "outputs": [],
   "source": [
    "l=[]\n",
    "for i in l[0].split():\n",
    "    l2.append(i[0])"
   ]
  },
  {
   "cell_type": "code",
   "execution_count": 104,
   "id": "6b689171",
   "metadata": {},
   "outputs": [
    {
     "data": {
      "text/plain": [
       "[]"
      ]
     },
     "execution_count": 104,
     "metadata": {},
     "output_type": "execute_result"
    }
   ],
   "source": [
    "l1"
   ]
  },
  {
   "cell_type": "code",
   "execution_count": 105,
   "id": "8a9b516b",
   "metadata": {},
   "outputs": [
    {
     "data": {
      "text/plain": [
       "'google.txt'"
      ]
     },
     "execution_count": 105,
     "metadata": {},
     "output_type": "execute_result"
    }
   ],
   "source": [
    "f=open('google.txt',\"r+\")\n",
    "f.name"
   ]
  },
  {
   "cell_type": "code",
   "execution_count": 109,
   "id": "f3c19482",
   "metadata": {},
   "outputs": [],
   "source": [
    "l2=[\"this is my line row\", \" this is line 2\", \"this is line 3\", \"this is line 4\"]"
   ]
  },
  {
   "cell_type": "code",
   "execution_count": 110,
   "id": "6e70fd11",
   "metadata": {},
   "outputs": [
    {
     "data": {
      "text/plain": [
       "35"
      ]
     },
     "execution_count": 110,
     "metadata": {},
     "output_type": "execute_result"
    }
   ],
   "source": [
    "f.write(\"I can write lines at current cursor\")"
   ]
  },
  {
   "cell_type": "code",
   "execution_count": 111,
   "id": "8e1df479",
   "metadata": {},
   "outputs": [],
   "source": [
    "f.writelines(l2)"
   ]
  },
  {
   "cell_type": "code",
   "execution_count": 112,
   "id": "fcd22122",
   "metadata": {},
   "outputs": [],
   "source": [
    "f.close()"
   ]
  },
  {
   "cell_type": "code",
   "execution_count": 113,
   "id": "38a12e88",
   "metadata": {},
   "outputs": [],
   "source": [
    "f=open('google.txt', \"r+\")"
   ]
  },
  {
   "cell_type": "code",
   "execution_count": 114,
   "id": "aa84a1f5",
   "metadata": {},
   "outputs": [
    {
     "data": {
      "text/plain": [
       "['I can write lines at current cursorI can write lines at current cursorthis is my line row this is line 2this is line 3this is line 4nathan Ive and conceived by CEO Steve Jobs as a powerful, miniaturized desktop computer. \\n',\n",
       " '\\n',\n",
       " 'Apple developed new technologies and manufacturing methods for its 7.7-inch (20 cm) cubic computer housed in clear acrylic glass. \\n',\n",
       " '\\n',\n",
       " 'The Cube was mid-range, between the consumer iMac G3 and the professional Power Mac G4. \\n',\n",
       " '\\n',\n",
       " 'It was announced at the Macworld Expo on July 19, 2000. \\n',\n",
       " '\\n',\n",
       " \"It won awards for its design, but reviews noted the high cost for its power, its limited expandability, and cosmetic defects. It was a commercial failure, selling just 150,000 units before production ended within a year. The Cube was a rare failure for the company under Jobs, after a successful period that brought the company back from the brink of bankruptcy. However, it influenced future Apple products, from the iPod to the Mac mini. New York's Museum of Modern Art holds a G4 Cube as part of its collection. The Power Mac G4 Cube is a personal computer of the Macintosh family sold by Apple from July 2000 to 2001. \\n\",\n",
       " '\\n',\n",
       " 'It was designed by Jonathan Ive and conceived by CEO Steve Jobs as a powerful, miniaturized desktop computer. \\n',\n",
       " '\\n',\n",
       " 'Apple developed new technologies and manufacturing methods for its 7.7-inch (20 cm) cubic computer housed in clear acrylic glass. \\n',\n",
       " '\\n',\n",
       " 'The Cube was mid-range, between the consumer iMac G3 and the professional Power Mac G4. \\n',\n",
       " '\\n',\n",
       " 'It was announced at the Macworld Expo on July 19, 2000. \\n',\n",
       " '\\n',\n",
       " \"It won awards for its design, but reviews noted the high cost for its power, its limited expandability, and cosmetic defects. It was a commercial failure, selling just 150,000 units before production ended within a year. The Cube was a rare failure for the company under Jobs, after a successful period that brought the company back from the brink of bankruptcy. However, it influenced future Apple products, from the iPod to the Mac mini. New York's Museum of Modern Art holds a G4 Cube as part of its collection.this is a file from googlethis is a file from googlethis is a file from googlethis is a file from google\"]"
      ]
     },
     "execution_count": 114,
     "metadata": {},
     "output_type": "execute_result"
    }
   ],
   "source": [
    "f.readlines()"
   ]
  },
  {
   "cell_type": "code",
   "execution_count": 116,
   "id": "af9140ba",
   "metadata": {},
   "outputs": [],
   "source": [
    "f.close()"
   ]
  },
  {
   "cell_type": "code",
   "execution_count": 118,
   "id": "289ed1cf",
   "metadata": {},
   "outputs": [
    {
     "data": {
      "text/plain": [
       "4"
      ]
     },
     "execution_count": 118,
     "metadata": {},
     "output_type": "execute_result"
    }
   ],
   "source": [
    "f=open(\"google.txt\", \"r+\")\n",
    "f.fileno()"
   ]
  },
  {
   "cell_type": "code",
   "execution_count": 119,
   "id": "98ba3e2a",
   "metadata": {},
   "outputs": [
    {
     "data": {
      "text/plain": [
       "0"
      ]
     },
     "execution_count": 119,
     "metadata": {},
     "output_type": "execute_result"
    }
   ],
   "source": [
    "f.tell()"
   ]
  },
  {
   "cell_type": "code",
   "execution_count": 120,
   "id": "a4bae720",
   "metadata": {},
   "outputs": [],
   "source": [
    "f.close()"
   ]
  },
  {
   "cell_type": "code",
   "execution_count": 121,
   "id": "d37a23a8",
   "metadata": {},
   "outputs": [],
   "source": [
    "import os"
   ]
  },
  {
   "cell_type": "code",
   "execution_count": 123,
   "id": "da74c6f7",
   "metadata": {},
   "outputs": [],
   "source": [
    "os.remove(\"test.txt\")"
   ]
  },
  {
   "cell_type": "code",
   "execution_count": 125,
   "id": "520f3070",
   "metadata": {},
   "outputs": [
    {
     "name": "stdout",
     "output_type": "stream",
     "text": [
      " Volume in drive C is OS\n",
      " Volume Serial Number is C6BD-A9FB\n",
      "\n",
      " Directory of C:\\Users\\Sachin Karale\n",
      "\n",
      "20-12-2021  23:12            33,988 (IF_ELIF_ELSE)_WHILE_(FOR_ELSE).ipynb\n",
      "09-01-2022  12:55    <DIR>          .\n",
      "09-01-2022  12:55    <DIR>          ..\n",
      "04-12-2021  10:27    <DIR>          .conda\n",
      "04-12-2021  10:25                25 .condarc\n",
      "04-12-2021  10:25    <DIR>          .continuum\n",
      "09-01-2022  12:54    <DIR>          .ipynb_checkpoints\n",
      "04-12-2021  10:39    <DIR>          .ipython\n",
      "19-12-2021  11:23    <DIR>          .jupyter\n",
      "29-11-2021  22:05    <DIR>          3D Objects\n",
      "04-12-2021  09:58    <DIR>          Anaconda3\n",
      "29-11-2021  22:05    <DIR>          Contacts\n",
      "26-12-2021  22:03    <DIR>          Desktop\n",
      "03-01-2022  20:57    <DIR>          Documents\n",
      "09-01-2022  10:29    <DIR>          Downloads\n",
      "29-11-2021  22:05    <DIR>          Favorites\n",
      "09-01-2022  12:54            29,937 File Operations.ipynb\n",
      "08-01-2022  10:19            24,233 Function.ipynb\n",
      "09-01-2022  11:47        12,694,422 Function1.ipynb\n",
      "09-01-2022  12:47             2,155 google.txt\n",
      "29-11-2021  22:05    <DIR>          Links\n",
      "21-12-2021  22:12            15,392 Loop_Practice.ipynb\n",
      "29-11-2021  22:05    <DIR>          Music\n",
      "09-01-2022  09:59    <DIR>          OneDrive\n",
      "19-12-2021  16:16    <DIR>          Pictures\n",
      "12-12-2021  13:26           119,672 Python Basic.ipynb\n",
      "29-11-2021  22:05    <DIR>          Saved Games\n",
      "29-11-2021  22:06    <DIR>          Searches\n",
      "09-01-2022  12:37                61 test1.txt\n",
      "09-01-2022  12:37                50 test2.txt\n",
      "19-12-2021  10:20            24,099 Tuples, Set.ipynb\n",
      "04-12-2021  10:55               928 Untitled1.ipynb\n",
      "04-12-2021  14:42            50,145 Untitled4.ipynb\n",
      "29-11-2021  20:17    <DIR>          Videos\n",
      "              13 File(s)     12,995,107 bytes\n",
      "              21 Dir(s)  101,175,238,656 bytes free\n"
     ]
    }
   ],
   "source": [
    "ls"
   ]
  },
  {
   "cell_type": "code",
   "execution_count": 127,
   "id": "7089db13",
   "metadata": {},
   "outputs": [
    {
     "data": {
      "text/plain": [
       "'C:\\\\Users\\\\Sachin Karale'"
      ]
     },
     "execution_count": 127,
     "metadata": {},
     "output_type": "execute_result"
    }
   ],
   "source": [
    "os.getcwd()"
   ]
  },
  {
   "cell_type": "code",
   "execution_count": 128,
   "id": "de1913e1",
   "metadata": {},
   "outputs": [
    {
     "data": {
      "text/plain": [
       "'C:\\\\Users\\\\Sachin Karale'"
      ]
     },
     "execution_count": 128,
     "metadata": {},
     "output_type": "execute_result"
    }
   ],
   "source": [
    "pwd()"
   ]
  },
  {
   "cell_type": "code",
   "execution_count": 129,
   "id": "95eb9b8f",
   "metadata": {},
   "outputs": [
    {
     "data": {
      "text/plain": [
       "['(IF_ELIF_ELSE)_WHILE_(FOR_ELSE).ipynb',\n",
       " '.conda',\n",
       " '.condarc',\n",
       " '.continuum',\n",
       " '.ipynb_checkpoints',\n",
       " '.ipython',\n",
       " '.jupyter',\n",
       " '3D Objects',\n",
       " 'Anaconda3',\n",
       " 'AppData',\n",
       " 'Application Data',\n",
       " 'Contacts',\n",
       " 'Cookies',\n",
       " 'Desktop',\n",
       " 'Documents',\n",
       " 'Downloads',\n",
       " 'Favorites',\n",
       " 'File Operations.ipynb',\n",
       " 'Function.ipynb',\n",
       " 'Function1.ipynb',\n",
       " 'google.txt',\n",
       " 'IntelGraphicsProfiles',\n",
       " 'Links',\n",
       " 'Local Settings',\n",
       " 'Loop_Practice.ipynb',\n",
       " 'Music',\n",
       " 'My Documents',\n",
       " 'NetHood',\n",
       " 'NTUSER.DAT',\n",
       " 'ntuser.dat.LOG1',\n",
       " 'ntuser.dat.LOG2',\n",
       " 'NTUSER.DAT{03c9637f-25a3-11ec-9a53-046c59799d34}.TM.blf',\n",
       " 'NTUSER.DAT{03c9637f-25a3-11ec-9a53-046c59799d34}.TMContainer00000000000000000001.regtrans-ms',\n",
       " 'NTUSER.DAT{03c9637f-25a3-11ec-9a53-046c59799d34}.TMContainer00000000000000000002.regtrans-ms',\n",
       " 'ntuser.ini',\n",
       " 'OneDrive',\n",
       " 'Pictures',\n",
       " 'PrintHood',\n",
       " 'Python Basic.ipynb',\n",
       " 'Recent',\n",
       " 'Saved Games',\n",
       " 'Searches',\n",
       " 'SendTo',\n",
       " 'Start Menu',\n",
       " 'Templates',\n",
       " 'test1.txt',\n",
       " 'test2.txt',\n",
       " 'Tuples, Set.ipynb',\n",
       " 'Untitled1.ipynb',\n",
       " 'Untitled4.ipynb',\n",
       " 'Videos']"
      ]
     },
     "execution_count": 129,
     "metadata": {},
     "output_type": "execute_result"
    }
   ],
   "source": [
    "os.listdir()"
   ]
  },
  {
   "cell_type": "code",
   "execution_count": 130,
   "id": "7f84c2c0",
   "metadata": {},
   "outputs": [
    {
     "data": {
      "text/plain": [
       "'C:\\\\Users\\\\Sachin Karale'"
      ]
     },
     "execution_count": 130,
     "metadata": {},
     "output_type": "execute_result"
    }
   ],
   "source": [
    "os.getcwd()"
   ]
  },
  {
   "cell_type": "code",
   "execution_count": 195,
   "id": "265d21be",
   "metadata": {},
   "outputs": [],
   "source": [
    "f=open(\"Firstfile.txt\",\"w+\")"
   ]
  },
  {
   "cell_type": "code",
   "execution_count": 196,
   "id": "2be71e9e",
   "metadata": {},
   "outputs": [
    {
     "data": {
      "text/plain": [
       "50"
      ]
     },
     "execution_count": 196,
     "metadata": {},
     "output_type": "execute_result"
    }
   ],
   "source": [
    "f.write(\"This is my first file with python file operations.\")"
   ]
  },
  {
   "cell_type": "code",
   "execution_count": 197,
   "id": "07a57de6",
   "metadata": {},
   "outputs": [
    {
     "data": {
      "text/plain": [
       "0"
      ]
     },
     "execution_count": 197,
     "metadata": {},
     "output_type": "execute_result"
    }
   ],
   "source": [
    "f.seek(0)"
   ]
  },
  {
   "cell_type": "code",
   "execution_count": 198,
   "id": "5db04a2c",
   "metadata": {},
   "outputs": [
    {
     "data": {
      "text/plain": [
       "'This is my first file with python file operations.'"
      ]
     },
     "execution_count": 198,
     "metadata": {},
     "output_type": "execute_result"
    }
   ],
   "source": [
    "f.read()"
   ]
  },
  {
   "cell_type": "code",
   "execution_count": 199,
   "id": "8396ecb6",
   "metadata": {},
   "outputs": [
    {
     "data": {
      "text/plain": [
       "51"
      ]
     },
     "execution_count": 199,
     "metadata": {},
     "output_type": "execute_result"
    }
   ],
   "source": [
    "f.write(\"This is revised content I have entered in the file.\")"
   ]
  },
  {
   "cell_type": "code",
   "execution_count": 200,
   "id": "341f1fef",
   "metadata": {},
   "outputs": [
    {
     "data": {
      "text/plain": [
       "0"
      ]
     },
     "execution_count": 200,
     "metadata": {},
     "output_type": "execute_result"
    }
   ],
   "source": [
    "f.seek(0)"
   ]
  },
  {
   "cell_type": "code",
   "execution_count": 201,
   "id": "329e46e8",
   "metadata": {},
   "outputs": [
    {
     "data": {
      "text/plain": [
       "'This is my first file with python file operations.This is revised content I have entered in the file.'"
      ]
     },
     "execution_count": 201,
     "metadata": {},
     "output_type": "execute_result"
    }
   ],
   "source": [
    "f.read()"
   ]
  },
  {
   "cell_type": "code",
   "execution_count": 202,
   "id": "a31f4f49",
   "metadata": {},
   "outputs": [],
   "source": [
    "f.close()"
   ]
  },
  {
   "cell_type": "code",
   "execution_count": 206,
   "id": "bb81cc5d",
   "metadata": {},
   "outputs": [],
   "source": [
    "f=open(\"Firstfile.txt\",\"w\")"
   ]
  },
  {
   "cell_type": "code",
   "execution_count": 207,
   "id": "91b18e4e",
   "metadata": {},
   "outputs": [
    {
     "data": {
      "text/plain": [
       "54"
      ]
     },
     "execution_count": 207,
     "metadata": {},
     "output_type": "execute_result"
    }
   ],
   "source": [
    "f.write(\"This will replace old content and replace with new one\")"
   ]
  },
  {
   "cell_type": "code",
   "execution_count": 209,
   "id": "575ba242",
   "metadata": {},
   "outputs": [],
   "source": [
    "f.close()"
   ]
  },
  {
   "cell_type": "code",
   "execution_count": 220,
   "id": "f22826f7",
   "metadata": {},
   "outputs": [
    {
     "ename": "FileNotFoundError",
     "evalue": "[Errno 2] No such file or directory: 'Secondfile.txt'",
     "output_type": "error",
     "traceback": [
      "\u001b[1;31m---------------------------------------------------------------------------\u001b[0m",
      "\u001b[1;31mFileNotFoundError\u001b[0m                         Traceback (most recent call last)",
      "\u001b[1;32mC:\\Users\\SACHIN~1\\AppData\\Local\\Temp/ipykernel_6336/3415904072.py\u001b[0m in \u001b[0;36m<module>\u001b[1;34m\u001b[0m\n\u001b[1;32m----> 1\u001b[1;33m \u001b[0mf\u001b[0m\u001b[1;33m=\u001b[0m\u001b[0mopen\u001b[0m\u001b[1;33m(\u001b[0m\u001b[1;34m\"Secondfile.txt\"\u001b[0m\u001b[1;33m,\u001b[0m\u001b[1;34m\"r\"\u001b[0m\u001b[1;33m)\u001b[0m\u001b[1;33m\u001b[0m\u001b[1;33m\u001b[0m\u001b[0m\n\u001b[0m",
      "\u001b[1;31mFileNotFoundError\u001b[0m: [Errno 2] No such file or directory: 'Secondfile.txt'"
     ]
    }
   ],
   "source": [
    "f=open(\"Secondfile.txt\",\"r\")"
   ]
  },
  {
   "cell_type": "code",
   "execution_count": 221,
   "id": "f89b7aef",
   "metadata": {},
   "outputs": [],
   "source": [
    "f=open(\"Secondfile.txt\",\"w\")"
   ]
  },
  {
   "cell_type": "code",
   "execution_count": 222,
   "id": "41ccf062",
   "metadata": {},
   "outputs": [
    {
     "data": {
      "text/plain": [
       "177"
      ]
     },
     "execution_count": 222,
     "metadata": {},
     "output_type": "execute_result"
    }
   ],
   "source": [
    "f.write(\"In the ‘w’ mode, the file opens in write mode. It removes existing content, if present, in the file. If the specified file doesn’t exist, it creates one with the specified name.\")"
   ]
  },
  {
   "cell_type": "code",
   "execution_count": 223,
   "id": "ea617277",
   "metadata": {},
   "outputs": [
    {
     "data": {
      "text/plain": [
       "177"
      ]
     },
     "execution_count": 223,
     "metadata": {},
     "output_type": "execute_result"
    }
   ],
   "source": [
    "f.tell()"
   ]
  },
  {
   "cell_type": "code",
   "execution_count": 224,
   "id": "0f0648ba",
   "metadata": {},
   "outputs": [
    {
     "data": {
      "text/plain": [
       "0"
      ]
     },
     "execution_count": 224,
     "metadata": {},
     "output_type": "execute_result"
    }
   ],
   "source": [
    "f.seek(0)"
   ]
  },
  {
   "cell_type": "code",
   "execution_count": 225,
   "id": "81254596",
   "metadata": {},
   "outputs": [
    {
     "ename": "UnsupportedOperation",
     "evalue": "not readable",
     "output_type": "error",
     "traceback": [
      "\u001b[1;31m---------------------------------------------------------------------------\u001b[0m",
      "\u001b[1;31mUnsupportedOperation\u001b[0m                      Traceback (most recent call last)",
      "\u001b[1;32mC:\\Users\\SACHIN~1\\AppData\\Local\\Temp/ipykernel_6336/3059900045.py\u001b[0m in \u001b[0;36m<module>\u001b[1;34m\u001b[0m\n\u001b[1;32m----> 1\u001b[1;33m \u001b[0mf\u001b[0m\u001b[1;33m.\u001b[0m\u001b[0mread\u001b[0m\u001b[1;33m(\u001b[0m\u001b[1;33m)\u001b[0m\u001b[1;33m\u001b[0m\u001b[1;33m\u001b[0m\u001b[0m\n\u001b[0m",
      "\u001b[1;31mUnsupportedOperation\u001b[0m: not readable"
     ]
    }
   ],
   "source": [
    "f.read()"
   ]
  },
  {
   "cell_type": "code",
   "execution_count": 226,
   "id": "6f205015",
   "metadata": {},
   "outputs": [],
   "source": [
    "f.close()"
   ]
  },
  {
   "cell_type": "code",
   "execution_count": 227,
   "id": "98b864d4",
   "metadata": {},
   "outputs": [],
   "source": [
    "f=open(\"Secondfile.txt\",\"r\")"
   ]
  },
  {
   "cell_type": "code",
   "execution_count": 228,
   "id": "46ecef6b",
   "metadata": {},
   "outputs": [
    {
     "data": {
      "text/plain": [
       "'In the ‘w’ mode, the file opens in write mode. It removes existing content, if present, in the file. If the specified file doesn’t exist, it creates one with the specified name.'"
      ]
     },
     "execution_count": 228,
     "metadata": {},
     "output_type": "execute_result"
    }
   ],
   "source": [
    "f.read()"
   ]
  },
  {
   "cell_type": "code",
   "execution_count": 229,
   "id": "0a2cba98",
   "metadata": {},
   "outputs": [],
   "source": [
    "f.close()"
   ]
  },
  {
   "cell_type": "code",
   "execution_count": 230,
   "id": "2a61ebd4",
   "metadata": {},
   "outputs": [],
   "source": [
    "f=open(\"Secondfile.txt\",\"a\")"
   ]
  },
  {
   "cell_type": "code",
   "execution_count": 232,
   "id": "306138a3",
   "metadata": {},
   "outputs": [
    {
     "data": {
      "text/plain": [
       "44"
      ]
     },
     "execution_count": 232,
     "metadata": {},
     "output_type": "execute_result"
    }
   ],
   "source": [
    "f.write(\"This will append content to existing content\")"
   ]
  },
  {
   "cell_type": "code",
   "execution_count": 233,
   "id": "46374aee",
   "metadata": {},
   "outputs": [
    {
     "ename": "UnsupportedOperation",
     "evalue": "not readable",
     "output_type": "error",
     "traceback": [
      "\u001b[1;31m---------------------------------------------------------------------------\u001b[0m",
      "\u001b[1;31mUnsupportedOperation\u001b[0m                      Traceback (most recent call last)",
      "\u001b[1;32mC:\\Users\\SACHIN~1\\AppData\\Local\\Temp/ipykernel_6336/3059900045.py\u001b[0m in \u001b[0;36m<module>\u001b[1;34m\u001b[0m\n\u001b[1;32m----> 1\u001b[1;33m \u001b[0mf\u001b[0m\u001b[1;33m.\u001b[0m\u001b[0mread\u001b[0m\u001b[1;33m(\u001b[0m\u001b[1;33m)\u001b[0m\u001b[1;33m\u001b[0m\u001b[1;33m\u001b[0m\u001b[0m\n\u001b[0m",
      "\u001b[1;31mUnsupportedOperation\u001b[0m: not readable"
     ]
    }
   ],
   "source": [
    "f.read()"
   ]
  },
  {
   "cell_type": "code",
   "execution_count": 234,
   "id": "0e2e9389",
   "metadata": {},
   "outputs": [],
   "source": [
    "f.close()"
   ]
  },
  {
   "cell_type": "code",
   "execution_count": 236,
   "id": "24ab98e6",
   "metadata": {},
   "outputs": [],
   "source": [
    "f=open(\"Secondfile.txt\",\"r\")"
   ]
  },
  {
   "cell_type": "code",
   "execution_count": 237,
   "id": "71afefad",
   "metadata": {},
   "outputs": [
    {
     "data": {
      "text/plain": [
       "'In the ‘w’ mode, the file opens in write mode. It removes existing content, if present, in the file. If the specified file doesn’t exist, it creates one with the specified name.This will append content to existing content'"
      ]
     },
     "execution_count": 237,
     "metadata": {},
     "output_type": "execute_result"
    }
   ],
   "source": [
    "f.read()"
   ]
  },
  {
   "cell_type": "code",
   "execution_count": 238,
   "id": "0786ceb6",
   "metadata": {},
   "outputs": [],
   "source": [
    "f.close()"
   ]
  },
  {
   "cell_type": "code",
   "execution_count": 239,
   "id": "fae6ea5b",
   "metadata": {},
   "outputs": [],
   "source": [
    "f=open(\"Secondfile.txt\",\"r+\")"
   ]
  },
  {
   "cell_type": "code",
   "execution_count": 240,
   "id": "b357507a",
   "metadata": {},
   "outputs": [
    {
     "data": {
      "text/plain": [
       "'In the ‘w’ mode, the file opens in write mode. It removes existing content, if present, in the file. If the specified file doesn’t exist, it creates one with the specified name.This will append content to existing content'"
      ]
     },
     "execution_count": 240,
     "metadata": {},
     "output_type": "execute_result"
    }
   ],
   "source": [
    "f.read()"
   ]
  },
  {
   "cell_type": "code",
   "execution_count": 246,
   "id": "d427ce41",
   "metadata": {},
   "outputs": [
    {
     "data": {
      "text/plain": [
       "180"
      ]
     },
     "execution_count": 246,
     "metadata": {},
     "output_type": "execute_result"
    }
   ],
   "source": [
    "f.write(\" In the ‘r+’ mode, the file opens in the read & write mode. It does not remove existing content, if present, in the file and does not create a file if not present in the directory.\")"
   ]
  },
  {
   "cell_type": "code",
   "execution_count": 247,
   "id": "0d0e84db",
   "metadata": {},
   "outputs": [
    {
     "data": {
      "text/plain": [
       "''"
      ]
     },
     "execution_count": 247,
     "metadata": {},
     "output_type": "execute_result"
    }
   ],
   "source": [
    "f.read()"
   ]
  },
  {
   "cell_type": "code",
   "execution_count": 248,
   "id": "89a3dbf4",
   "metadata": {},
   "outputs": [
    {
     "data": {
      "text/plain": [
       "0"
      ]
     },
     "execution_count": 248,
     "metadata": {},
     "output_type": "execute_result"
    }
   ],
   "source": [
    "f.seek(0)"
   ]
  },
  {
   "cell_type": "code",
   "execution_count": 249,
   "id": "f49dd1fb",
   "metadata": {},
   "outputs": [
    {
     "data": {
      "text/plain": [
       "'In the ‘w’ mode, the file opens in write mode. It removes existing content, if present, in the file. If the specified file doesn’t exist, it creates one with the specified name.This will append content to existing contentIn the ‘r+’ mode, the file opens in the read & write mode. It does not remove existing content, if present, in the file and does not create a file if not present in the directory. In the ‘r+’ mode, the file opens in the read & write mode. It does not remove existing content, if present, in the file and does not create a file if not present in the directory.'"
      ]
     },
     "execution_count": 249,
     "metadata": {},
     "output_type": "execute_result"
    }
   ],
   "source": [
    "f.read()"
   ]
  },
  {
   "cell_type": "code",
   "execution_count": 250,
   "id": "6bfc4c7c",
   "metadata": {},
   "outputs": [],
   "source": [
    "f.close()"
   ]
  },
  {
   "cell_type": "code",
   "execution_count": 257,
   "id": "e21ea00a",
   "metadata": {},
   "outputs": [],
   "source": [
    "f=open(\"Secondfile.txt\",\"w+\")"
   ]
  },
  {
   "cell_type": "code",
   "execution_count": 258,
   "id": "c7375ff6",
   "metadata": {},
   "outputs": [
    {
     "data": {
      "text/plain": [
       "''"
      ]
     },
     "execution_count": 258,
     "metadata": {},
     "output_type": "execute_result"
    }
   ],
   "source": [
    "f.read()"
   ]
  },
  {
   "cell_type": "code",
   "execution_count": 259,
   "id": "640153b0",
   "metadata": {},
   "outputs": [
    {
     "data": {
      "text/plain": [
       "217"
      ]
     },
     "execution_count": 259,
     "metadata": {},
     "output_type": "execute_result"
    }
   ],
   "source": [
    "f.write(\"\"\"In the ‘w+’ mode, open the file in the read & write mode & remove existing content.\n",
    "If the file doesn’t exist, it creates a new one.\n",
    "It does not remove existing content & if a file doesn’t exist, it creates a new one.\"\"\")"
   ]
  },
  {
   "cell_type": "code",
   "execution_count": 260,
   "id": "9576ed6d",
   "metadata": {},
   "outputs": [
    {
     "data": {
      "text/plain": [
       "219"
      ]
     },
     "execution_count": 260,
     "metadata": {},
     "output_type": "execute_result"
    }
   ],
   "source": [
    "f.tell()"
   ]
  },
  {
   "cell_type": "code",
   "execution_count": 261,
   "id": "852e677a",
   "metadata": {},
   "outputs": [
    {
     "data": {
      "text/plain": [
       "0"
      ]
     },
     "execution_count": 261,
     "metadata": {},
     "output_type": "execute_result"
    }
   ],
   "source": [
    "f.seek(0)"
   ]
  },
  {
   "cell_type": "code",
   "execution_count": 262,
   "id": "6d245211",
   "metadata": {},
   "outputs": [
    {
     "data": {
      "text/plain": [
       "'In the ‘w+’ mode, open the file in the read & write mode & remove existing content.\\nIf the file doesn’t exist, it creates a new one.\\nIt does not remove existing content & if a file doesn’t exist, it creates a new one.'"
      ]
     },
     "execution_count": 262,
     "metadata": {},
     "output_type": "execute_result"
    }
   ],
   "source": [
    "f.read()"
   ]
  },
  {
   "cell_type": "code",
   "execution_count": 268,
   "id": "168d379c",
   "metadata": {},
   "outputs": [
    {
     "data": {
      "text/plain": [
       "0"
      ]
     },
     "execution_count": 268,
     "metadata": {},
     "output_type": "execute_result"
    }
   ],
   "source": [
    "f.seek(0)"
   ]
  },
  {
   "cell_type": "code",
   "execution_count": 269,
   "id": "d66c227d",
   "metadata": {},
   "outputs": [
    {
     "data": {
      "text/plain": [
       "'In the ‘w+’ mode, open the file in the read & write mode & remove existing content.\\nIf the file does'"
      ]
     },
     "execution_count": 269,
     "metadata": {},
     "output_type": "execute_result"
    }
   ],
   "source": [
    "f.read(100)"
   ]
  },
  {
   "cell_type": "code",
   "execution_count": 270,
   "id": "892e4196",
   "metadata": {},
   "outputs": [],
   "source": [
    "f.close()"
   ]
  },
  {
   "cell_type": "code",
   "execution_count": 271,
   "id": "3722756e",
   "metadata": {},
   "outputs": [],
   "source": [
    "f=open(\"Secondfile.txt\",\"r+\")"
   ]
  },
  {
   "cell_type": "code",
   "execution_count": 272,
   "id": "0e2601f8",
   "metadata": {},
   "outputs": [
    {
     "data": {
      "text/plain": [
       "'In the ‘w+’ mode, open the file in the read & write mode & remove existing content.\\nIf the file doesn’t exist, it creates a new one.\\nIt does not remove existing content & if a file doesn’t exist, it creates a new one.'"
      ]
     },
     "execution_count": 272,
     "metadata": {},
     "output_type": "execute_result"
    }
   ],
   "source": [
    "f.read()"
   ]
  },
  {
   "cell_type": "code",
   "execution_count": 273,
   "id": "521c62bd",
   "metadata": {},
   "outputs": [
    {
     "data": {
      "text/plain": [
       "219"
      ]
     },
     "execution_count": 273,
     "metadata": {},
     "output_type": "execute_result"
    }
   ],
   "source": [
    "f.tell()"
   ]
  },
  {
   "cell_type": "code",
   "execution_count": 274,
   "id": "3397a91a",
   "metadata": {},
   "outputs": [
    {
     "data": {
      "text/plain": [
       "15"
      ]
     },
     "execution_count": 274,
     "metadata": {},
     "output_type": "execute_result"
    }
   ],
   "source": [
    "f.write(\"Rewrite content\")"
   ]
  },
  {
   "cell_type": "code",
   "execution_count": 275,
   "id": "e93f3e33",
   "metadata": {},
   "outputs": [
    {
     "data": {
      "text/plain": [
       "''"
      ]
     },
     "execution_count": 275,
     "metadata": {},
     "output_type": "execute_result"
    }
   ],
   "source": [
    "f.read()"
   ]
  },
  {
   "cell_type": "code",
   "execution_count": 276,
   "id": "1e3934a0",
   "metadata": {},
   "outputs": [
    {
     "data": {
      "text/plain": [
       "0"
      ]
     },
     "execution_count": 276,
     "metadata": {},
     "output_type": "execute_result"
    }
   ],
   "source": [
    "f.seek(0)"
   ]
  },
  {
   "cell_type": "code",
   "execution_count": 277,
   "id": "9618149c",
   "metadata": {},
   "outputs": [
    {
     "data": {
      "text/plain": [
       "'In the ‘w+’ mode, open the file in the read & write mode & remove existing content.\\nIf the file doesn’t exist, it creates a new one.\\nIt does not remove existing content & if a file doesn’t exist, it creates a new one.Rewrite content'"
      ]
     },
     "execution_count": 277,
     "metadata": {},
     "output_type": "execute_result"
    }
   ],
   "source": [
    "f.read()"
   ]
  },
  {
   "cell_type": "code",
   "execution_count": 278,
   "id": "7b75c8dc",
   "metadata": {},
   "outputs": [
    {
     "data": {
      "text/plain": [
       "0"
      ]
     },
     "execution_count": 278,
     "metadata": {},
     "output_type": "execute_result"
    }
   ],
   "source": [
    "f.seek(0)"
   ]
  },
  {
   "cell_type": "code",
   "execution_count": 279,
   "id": "79a6e0c3",
   "metadata": {},
   "outputs": [
    {
     "data": {
      "text/plain": [
       "26"
      ]
     },
     "execution_count": 279,
     "metadata": {},
     "output_type": "execute_result"
    }
   ],
   "source": [
    "f.write(\"Remove and rewrite content\")"
   ]
  },
  {
   "cell_type": "code",
   "execution_count": 280,
   "id": "9c148c81",
   "metadata": {},
   "outputs": [
    {
     "data": {
      "text/plain": [
       "0"
      ]
     },
     "execution_count": 280,
     "metadata": {},
     "output_type": "execute_result"
    }
   ],
   "source": [
    "f.seek(0)"
   ]
  },
  {
   "cell_type": "code",
   "execution_count": 281,
   "id": "f617544a",
   "metadata": {},
   "outputs": [
    {
     "data": {
      "text/plain": [
       "'Remove and rewrite content file in the read & write mode & remove existing content.\\nIf the file doesn’t exist, it creates a new one.\\nIt does not remove existing content & if a file doesn’t exist, it creates a new one.Rewrite content'"
      ]
     },
     "execution_count": 281,
     "metadata": {},
     "output_type": "execute_result"
    }
   ],
   "source": [
    "f.read()"
   ]
  },
  {
   "cell_type": "code",
   "execution_count": 282,
   "id": "38536232",
   "metadata": {},
   "outputs": [
    {
     "data": {
      "text/plain": [
       "0"
      ]
     },
     "execution_count": 282,
     "metadata": {},
     "output_type": "execute_result"
    }
   ],
   "source": [
    "f.seek(0)"
   ]
  },
  {
   "cell_type": "code",
   "execution_count": 283,
   "id": "a634e2b0",
   "metadata": {},
   "outputs": [
    {
     "data": {
      "text/plain": [
       "73"
      ]
     },
     "execution_count": 283,
     "metadata": {},
     "output_type": "execute_result"
    }
   ],
   "source": [
    "f.write(\"dhagdjagdhdshfkhfk hdfkhsfkhskdf kshfkjshfkjshfks khsfkhsfdk khsdfkjhskfh\")"
   ]
  },
  {
   "cell_type": "code",
   "execution_count": 284,
   "id": "c93d6a21",
   "metadata": {},
   "outputs": [
    {
     "data": {
      "text/plain": [
       "0"
      ]
     },
     "execution_count": 284,
     "metadata": {},
     "output_type": "execute_result"
    }
   ],
   "source": [
    "f.seek(0)"
   ]
  },
  {
   "cell_type": "code",
   "execution_count": 285,
   "id": "91977f9a",
   "metadata": {},
   "outputs": [
    {
     "data": {
      "text/plain": [
       "'dhagdjagdhdshfkhfk hdfkhsfkhskdf kshfkjshfkjshfks khsfkhsfdk khsdfkjhskfhg content.\\nIf the file doesn’t exist, it creates a new one.\\nIt does not remove existing content & if a file doesn’t exist, it creates a new one.Rewrite content'"
      ]
     },
     "execution_count": 285,
     "metadata": {},
     "output_type": "execute_result"
    }
   ],
   "source": [
    "f.read()"
   ]
  },
  {
   "cell_type": "code",
   "execution_count": 286,
   "id": "5626cb6b",
   "metadata": {},
   "outputs": [],
   "source": [
    "f.close()"
   ]
  },
  {
   "cell_type": "code",
   "execution_count": 287,
   "id": "4302582a",
   "metadata": {},
   "outputs": [],
   "source": [
    "f=open(\"Secondfile.txt\",\"w+\")"
   ]
  },
  {
   "cell_type": "code",
   "execution_count": 288,
   "id": "a77e7b18",
   "metadata": {},
   "outputs": [
    {
     "data": {
      "text/plain": [
       "''"
      ]
     },
     "execution_count": 288,
     "metadata": {},
     "output_type": "execute_result"
    }
   ],
   "source": [
    "f.read()"
   ]
  },
  {
   "cell_type": "code",
   "execution_count": 289,
   "id": "8434634d",
   "metadata": {},
   "outputs": [
    {
     "data": {
      "text/plain": [
       "0"
      ]
     },
     "execution_count": 289,
     "metadata": {},
     "output_type": "execute_result"
    }
   ],
   "source": [
    "f.tell()"
   ]
  },
  {
   "cell_type": "code",
   "execution_count": 290,
   "id": "1bc54076",
   "metadata": {},
   "outputs": [
    {
     "data": {
      "text/plain": [
       "51"
      ]
     },
     "execution_count": 290,
     "metadata": {},
     "output_type": "execute_result"
    }
   ],
   "source": [
    "f.write(\"Opens in read and write mode. Replaces old content.\")"
   ]
  },
  {
   "cell_type": "code",
   "execution_count": 291,
   "id": "45b14cbb",
   "metadata": {},
   "outputs": [
    {
     "data": {
      "text/plain": [
       "0"
      ]
     },
     "execution_count": 291,
     "metadata": {},
     "output_type": "execute_result"
    }
   ],
   "source": [
    "f.seek(0)"
   ]
  },
  {
   "cell_type": "code",
   "execution_count": 292,
   "id": "702d91dd",
   "metadata": {},
   "outputs": [
    {
     "data": {
      "text/plain": [
       "'Opens in read and write mode. Replaces old content.'"
      ]
     },
     "execution_count": 292,
     "metadata": {},
     "output_type": "execute_result"
    }
   ],
   "source": [
    "f.read()"
   ]
  },
  {
   "cell_type": "code",
   "execution_count": 293,
   "id": "006f27c0",
   "metadata": {},
   "outputs": [],
   "source": [
    "f.close()"
   ]
  },
  {
   "cell_type": "code",
   "execution_count": 295,
   "id": "3c9c8484",
   "metadata": {},
   "outputs": [],
   "source": [
    "f=open(\"Thirdfile.txt\",\"a+\")"
   ]
  },
  {
   "cell_type": "code",
   "execution_count": 296,
   "id": "ec19342f",
   "metadata": {},
   "outputs": [
    {
     "data": {
      "text/plain": [
       "31"
      ]
     },
     "execution_count": 296,
     "metadata": {},
     "output_type": "execute_result"
    }
   ],
   "source": [
    "f.write(\"This is initial content of file\")"
   ]
  },
  {
   "cell_type": "code",
   "execution_count": 297,
   "id": "d9d10cb7",
   "metadata": {},
   "outputs": [
    {
     "data": {
      "text/plain": [
       "24"
      ]
     },
     "execution_count": 297,
     "metadata": {},
     "output_type": "execute_result"
    }
   ],
   "source": [
    "f.write(\"Add some content to this\")"
   ]
  },
  {
   "cell_type": "code",
   "execution_count": 298,
   "id": "d4d5e3f3",
   "metadata": {},
   "outputs": [
    {
     "data": {
      "text/plain": [
       "''"
      ]
     },
     "execution_count": 298,
     "metadata": {},
     "output_type": "execute_result"
    }
   ],
   "source": [
    "f.read()"
   ]
  },
  {
   "cell_type": "code",
   "execution_count": 299,
   "id": "e90327a3",
   "metadata": {},
   "outputs": [
    {
     "data": {
      "text/plain": [
       "0"
      ]
     },
     "execution_count": 299,
     "metadata": {},
     "output_type": "execute_result"
    }
   ],
   "source": [
    "f.seek(0)"
   ]
  },
  {
   "cell_type": "code",
   "execution_count": 300,
   "id": "f50df00a",
   "metadata": {},
   "outputs": [
    {
     "data": {
      "text/plain": [
       "'This is initial content of fileAdd some content to this'"
      ]
     },
     "execution_count": 300,
     "metadata": {},
     "output_type": "execute_result"
    }
   ],
   "source": [
    "f.read()"
   ]
  },
  {
   "cell_type": "code",
   "execution_count": 302,
   "id": "9453e4ba",
   "metadata": {},
   "outputs": [
    {
     "data": {
      "text/plain": [
       "0"
      ]
     },
     "execution_count": 302,
     "metadata": {},
     "output_type": "execute_result"
    }
   ],
   "source": [
    "f.seek(0)"
   ]
  },
  {
   "cell_type": "code",
   "execution_count": 303,
   "id": "e11ef241",
   "metadata": {},
   "outputs": [
    {
     "data": {
      "text/plain": [
       "30"
      ]
     },
     "execution_count": 303,
     "metadata": {},
     "output_type": "execute_result"
    }
   ],
   "source": [
    "f.write(\"try to add content to the file\")"
   ]
  },
  {
   "cell_type": "code",
   "execution_count": 304,
   "id": "383fa4fd",
   "metadata": {},
   "outputs": [
    {
     "data": {
      "text/plain": [
       "0"
      ]
     },
     "execution_count": 304,
     "metadata": {},
     "output_type": "execute_result"
    }
   ],
   "source": [
    "f.seek(0)"
   ]
  },
  {
   "cell_type": "code",
   "execution_count": 305,
   "id": "e534efc0",
   "metadata": {},
   "outputs": [
    {
     "data": {
      "text/plain": [
       "'This is initial content of fileAdd some content to thistry to add content to the file'"
      ]
     },
     "execution_count": 305,
     "metadata": {},
     "output_type": "execute_result"
    }
   ],
   "source": [
    "f.read()"
   ]
  },
  {
   "cell_type": "code",
   "execution_count": 306,
   "id": "755fc6e3",
   "metadata": {},
   "outputs": [
    {
     "data": {
      "text/plain": [
       "0"
      ]
     },
     "execution_count": 306,
     "metadata": {},
     "output_type": "execute_result"
    }
   ],
   "source": [
    "f.seek(0)"
   ]
  },
  {
   "cell_type": "code",
   "execution_count": 308,
   "id": "8b915554",
   "metadata": {},
   "outputs": [
    {
     "data": {
      "text/plain": [
       "36"
      ]
     },
     "execution_count": 308,
     "metadata": {},
     "output_type": "execute_result"
    }
   ],
   "source": [
    "f.write(\"try to add content with append mode.\")"
   ]
  },
  {
   "cell_type": "code",
   "execution_count": 309,
   "id": "ed3adb16",
   "metadata": {},
   "outputs": [
    {
     "data": {
      "text/plain": [
       "0"
      ]
     },
     "execution_count": 309,
     "metadata": {},
     "output_type": "execute_result"
    }
   ],
   "source": [
    "f.seek(0)"
   ]
  },
  {
   "cell_type": "code",
   "execution_count": 310,
   "id": "84536d80",
   "metadata": {},
   "outputs": [
    {
     "data": {
      "text/plain": [
       "'This is initial content of fileAdd some content to thistry to add content to the filetry to add content with append mode.'"
      ]
     },
     "execution_count": 310,
     "metadata": {},
     "output_type": "execute_result"
    }
   ],
   "source": [
    "f.read()"
   ]
  },
  {
   "cell_type": "code",
   "execution_count": 312,
   "id": "d419c394",
   "metadata": {},
   "outputs": [],
   "source": [
    "f.close()"
   ]
  },
  {
   "cell_type": "code",
   "execution_count": 353,
   "id": "202d3a76",
   "metadata": {},
   "outputs": [],
   "source": [
    "f=open(\"FourthFile.txt\",\"w+\")"
   ]
  },
  {
   "cell_type": "code",
   "execution_count": 354,
   "id": "1ca557b5",
   "metadata": {},
   "outputs": [
    {
     "data": {
      "text/plain": [
       "1023"
      ]
     },
     "execution_count": 354,
     "metadata": {},
     "output_type": "execute_result"
    }
   ],
   "source": [
    "f.write(\"\"\"Apple developed new technologies and manufacturing methods for its 7.7-inch (20 cm) cubic computer housed in clear acrylic glass. \n",
    "\n",
    "The Cube was mid-range, between the consumer iMac G3 and the professional Power Mac G4. \n",
    "\n",
    "It was announced at the Macworld Expo on July 19, 2000. \n",
    "\n",
    "It won awards for its design, but reviews noted the high cost for its power, its limited expandability, and cosmetic defects. \n",
    "\n",
    "It was a commercial failure, selling just 150,000 units before production ended within a year. \n",
    "\n",
    "The Cube was a rare failure for the company under Jobs, after a successful period that brought the company back from the brink of bankruptcy. \n",
    "\n",
    "However, it influenced future Apple products, from the iPod to the Mac mini. \n",
    "\n",
    "New York's Museum of Modern Art holds a G4 Cube as part of its collection. \n",
    "\n",
    "The Power Mac G4 Cube is a personal computer of the Macintosh family sold by Apple from July 2000 to 2001. \n",
    "\n",
    "It was designed by Jonathan Ive and conceived by CEO Steve Jobs as a powerful, miniaturized desktop computer.\"\"\") \n",
    "\n"
   ]
  },
  {
   "cell_type": "code",
   "execution_count": 355,
   "id": "58010aa2",
   "metadata": {},
   "outputs": [
    {
     "data": {
      "text/plain": [
       "''"
      ]
     },
     "execution_count": 355,
     "metadata": {},
     "output_type": "execute_result"
    }
   ],
   "source": [
    "f.readline()"
   ]
  },
  {
   "cell_type": "code",
   "execution_count": 356,
   "id": "a7de9354",
   "metadata": {},
   "outputs": [
    {
     "data": {
      "text/plain": [
       "1041"
      ]
     },
     "execution_count": 356,
     "metadata": {},
     "output_type": "execute_result"
    }
   ],
   "source": [
    "f.tell()"
   ]
  },
  {
   "cell_type": "code",
   "execution_count": 357,
   "id": "f137ea8e",
   "metadata": {},
   "outputs": [
    {
     "data": {
      "text/plain": [
       "0"
      ]
     },
     "execution_count": 357,
     "metadata": {},
     "output_type": "execute_result"
    }
   ],
   "source": [
    "f.seek(0)"
   ]
  },
  {
   "cell_type": "code",
   "execution_count": 358,
   "id": "d73a4e0b",
   "metadata": {},
   "outputs": [
    {
     "data": {
      "text/plain": [
       "'Apple developed new technologies and manufacturing methods for its 7.7-inch (20 cm) cubic computer housed in clear acrylic glass. \\n'"
      ]
     },
     "execution_count": 358,
     "metadata": {},
     "output_type": "execute_result"
    }
   ],
   "source": [
    "f.readline()"
   ]
  },
  {
   "cell_type": "code",
   "execution_count": 359,
   "id": "d2c3a3ed",
   "metadata": {},
   "outputs": [
    {
     "data": {
      "text/plain": [
       "18446744073709551749"
      ]
     },
     "execution_count": 359,
     "metadata": {},
     "output_type": "execute_result"
    }
   ],
   "source": [
    "f.tell()"
   ]
  },
  {
   "cell_type": "code",
   "execution_count": 360,
   "id": "61b944d7",
   "metadata": {},
   "outputs": [
    {
     "data": {
      "text/plain": [
       "0"
      ]
     },
     "execution_count": 360,
     "metadata": {},
     "output_type": "execute_result"
    }
   ],
   "source": [
    "f.seek(0)"
   ]
  },
  {
   "cell_type": "code",
   "execution_count": 361,
   "id": "1ab1a2c7",
   "metadata": {},
   "outputs": [
    {
     "data": {
      "text/plain": [
       "['Apple developed new technologies and manufacturing methods for its 7.7-inch (20 cm) cubic computer housed in clear acrylic glass. \\n',\n",
       " '\\n',\n",
       " 'The Cube was mid-range, between the consumer iMac G3 and the professional Power Mac G4. \\n',\n",
       " '\\n',\n",
       " 'It was announced at the Macworld Expo on July 19, 2000. \\n',\n",
       " '\\n',\n",
       " 'It won awards for its design, but reviews noted the high cost for its power, its limited expandability, and cosmetic defects. \\n',\n",
       " '\\n',\n",
       " 'It was a commercial failure, selling just 150,000 units before production ended within a year. \\n',\n",
       " '\\n',\n",
       " 'The Cube was a rare failure for the company under Jobs, after a successful period that brought the company back from the brink of bankruptcy. \\n',\n",
       " '\\n',\n",
       " 'However, it influenced future Apple products, from the iPod to the Mac mini. \\n',\n",
       " '\\n',\n",
       " \"New York's Museum of Modern Art holds a G4 Cube as part of its collection. \\n\",\n",
       " '\\n',\n",
       " 'The Power Mac G4 Cube is a personal computer of the Macintosh family sold by Apple from July 2000 to 2001. \\n',\n",
       " '\\n',\n",
       " 'It was designed by Jonathan Ive and conceived by CEO Steve Jobs as a powerful, miniaturized desktop computer.']"
      ]
     },
     "execution_count": 361,
     "metadata": {},
     "output_type": "execute_result"
    }
   ],
   "source": [
    "f.readlines()"
   ]
  },
  {
   "cell_type": "code",
   "execution_count": 362,
   "id": "0d750073",
   "metadata": {},
   "outputs": [
    {
     "data": {
      "text/plain": [
       "0"
      ]
     },
     "execution_count": 362,
     "metadata": {},
     "output_type": "execute_result"
    }
   ],
   "source": [
    "len(f.readlines())"
   ]
  },
  {
   "cell_type": "code",
   "execution_count": 363,
   "id": "895b2ba2",
   "metadata": {},
   "outputs": [
    {
     "data": {
      "text/plain": [
       "0"
      ]
     },
     "execution_count": 363,
     "metadata": {},
     "output_type": "execute_result"
    }
   ],
   "source": [
    "f.seek(0)"
   ]
  },
  {
   "cell_type": "code",
   "execution_count": 364,
   "id": "bec3df51",
   "metadata": {},
   "outputs": [
    {
     "data": {
      "text/plain": [
       "19"
      ]
     },
     "execution_count": 364,
     "metadata": {},
     "output_type": "execute_result"
    }
   ],
   "source": [
    "len(f.readlines())"
   ]
  },
  {
   "cell_type": "code",
   "execution_count": 365,
   "id": "d98a0338",
   "metadata": {},
   "outputs": [
    {
     "data": {
      "text/plain": [
       "[]"
      ]
     },
     "execution_count": 365,
     "metadata": {},
     "output_type": "execute_result"
    }
   ],
   "source": [
    "f.readlines()"
   ]
  },
  {
   "cell_type": "code",
   "execution_count": 366,
   "id": "985179d7",
   "metadata": {},
   "outputs": [
    {
     "data": {
      "text/plain": [
       "0"
      ]
     },
     "execution_count": 366,
     "metadata": {},
     "output_type": "execute_result"
    }
   ],
   "source": [
    "f.seek(0)"
   ]
  },
  {
   "cell_type": "code",
   "execution_count": 367,
   "id": "1f9a52cb",
   "metadata": {},
   "outputs": [
    {
     "data": {
      "text/plain": [
       "['Apple developed new technologies and manufacturing methods for its 7.7-inch (20 cm) cubic computer housed in clear acrylic glass. \\n',\n",
       " '\\n',\n",
       " 'The Cube was mid-range, between the consumer iMac G3 and the professional Power Mac G4. \\n',\n",
       " '\\n',\n",
       " 'It was announced at the Macworld Expo on July 19, 2000. \\n',\n",
       " '\\n',\n",
       " 'It won awards for its design, but reviews noted the high cost for its power, its limited expandability, and cosmetic defects. \\n',\n",
       " '\\n',\n",
       " 'It was a commercial failure, selling just 150,000 units before production ended within a year. \\n',\n",
       " '\\n',\n",
       " 'The Cube was a rare failure for the company under Jobs, after a successful period that brought the company back from the brink of bankruptcy. \\n',\n",
       " '\\n',\n",
       " 'However, it influenced future Apple products, from the iPod to the Mac mini. \\n',\n",
       " '\\n',\n",
       " \"New York's Museum of Modern Art holds a G4 Cube as part of its collection. \\n\",\n",
       " '\\n',\n",
       " 'The Power Mac G4 Cube is a personal computer of the Macintosh family sold by Apple from July 2000 to 2001. \\n',\n",
       " '\\n',\n",
       " 'It was designed by Jonathan Ive and conceived by CEO Steve Jobs as a powerful, miniaturized desktop computer.']"
      ]
     },
     "execution_count": 367,
     "metadata": {},
     "output_type": "execute_result"
    }
   ],
   "source": [
    "f.readlines()"
   ]
  },
  {
   "cell_type": "code",
   "execution_count": 368,
   "id": "c2ac1a8c",
   "metadata": {},
   "outputs": [],
   "source": [
    "l=[]"
   ]
  },
  {
   "cell_type": "code",
   "execution_count": 369,
   "id": "d1c0539a",
   "metadata": {},
   "outputs": [
    {
     "data": {
      "text/plain": [
       "0"
      ]
     },
     "execution_count": 369,
     "metadata": {},
     "output_type": "execute_result"
    }
   ],
   "source": [
    "f.seek(0)"
   ]
  },
  {
   "cell_type": "code",
   "execution_count": 370,
   "id": "c8e96440",
   "metadata": {},
   "outputs": [],
   "source": [
    "l=[f.readlines()]"
   ]
  },
  {
   "cell_type": "code",
   "execution_count": 371,
   "id": "14e73ead",
   "metadata": {},
   "outputs": [
    {
     "data": {
      "text/plain": [
       "[['Apple developed new technologies and manufacturing methods for its 7.7-inch (20 cm) cubic computer housed in clear acrylic glass. \\n',\n",
       "  '\\n',\n",
       "  'The Cube was mid-range, between the consumer iMac G3 and the professional Power Mac G4. \\n',\n",
       "  '\\n',\n",
       "  'It was announced at the Macworld Expo on July 19, 2000. \\n',\n",
       "  '\\n',\n",
       "  'It won awards for its design, but reviews noted the high cost for its power, its limited expandability, and cosmetic defects. \\n',\n",
       "  '\\n',\n",
       "  'It was a commercial failure, selling just 150,000 units before production ended within a year. \\n',\n",
       "  '\\n',\n",
       "  'The Cube was a rare failure for the company under Jobs, after a successful period that brought the company back from the brink of bankruptcy. \\n',\n",
       "  '\\n',\n",
       "  'However, it influenced future Apple products, from the iPod to the Mac mini. \\n',\n",
       "  '\\n',\n",
       "  \"New York's Museum of Modern Art holds a G4 Cube as part of its collection. \\n\",\n",
       "  '\\n',\n",
       "  'The Power Mac G4 Cube is a personal computer of the Macintosh family sold by Apple from July 2000 to 2001. \\n',\n",
       "  '\\n',\n",
       "  'It was designed by Jonathan Ive and conceived by CEO Steve Jobs as a powerful, miniaturized desktop computer.']]"
      ]
     },
     "execution_count": 371,
     "metadata": {},
     "output_type": "execute_result"
    }
   ],
   "source": [
    "l"
   ]
  },
  {
   "cell_type": "code",
   "execution_count": 372,
   "id": "ab411a47",
   "metadata": {},
   "outputs": [],
   "source": [
    "l1=[]"
   ]
  },
  {
   "cell_type": "code",
   "execution_count": 373,
   "id": "4b369e63",
   "metadata": {},
   "outputs": [],
   "source": [
    "l1=[\"%%%additional content111%%%\",\"%%%additional content222%%%\",\"%%%additional content333%%%\",\"%%%additional content444%%%\",\"%%%additional content555%%%\"]"
   ]
  },
  {
   "cell_type": "code",
   "execution_count": 374,
   "id": "ac8711cf",
   "metadata": {},
   "outputs": [
    {
     "data": {
      "text/plain": [
       "['%%%additional content111%%%',\n",
       " '%%%additional content222%%%',\n",
       " '%%%additional content333%%%',\n",
       " '%%%additional content444%%%',\n",
       " '%%%additional content555%%%']"
      ]
     },
     "execution_count": 374,
     "metadata": {},
     "output_type": "execute_result"
    }
   ],
   "source": [
    "l1"
   ]
  },
  {
   "cell_type": "code",
   "execution_count": 375,
   "id": "6a98b153",
   "metadata": {},
   "outputs": [
    {
     "data": {
      "text/plain": [
       "0"
      ]
     },
     "execution_count": 375,
     "metadata": {},
     "output_type": "execute_result"
    }
   ],
   "source": [
    "f.seek(0)"
   ]
  },
  {
   "cell_type": "code",
   "execution_count": 376,
   "id": "f10f1e43",
   "metadata": {},
   "outputs": [
    {
     "data": {
      "text/plain": [
       "['Apple developed new technologies and manufacturing methods for its 7.7-inch (20 cm) cubic computer housed in clear acrylic glass. \\n',\n",
       " '\\n',\n",
       " 'The Cube was mid-range, between the consumer iMac G3 and the professional Power Mac G4. \\n',\n",
       " '\\n',\n",
       " 'It was announced at the Macworld Expo on July 19, 2000. \\n',\n",
       " '\\n',\n",
       " 'It won awards for its design, but reviews noted the high cost for its power, its limited expandability, and cosmetic defects. \\n',\n",
       " '\\n',\n",
       " 'It was a commercial failure, selling just 150,000 units before production ended within a year. \\n',\n",
       " '\\n',\n",
       " 'The Cube was a rare failure for the company under Jobs, after a successful period that brought the company back from the brink of bankruptcy. \\n',\n",
       " '\\n',\n",
       " 'However, it influenced future Apple products, from the iPod to the Mac mini. \\n',\n",
       " '\\n',\n",
       " \"New York's Museum of Modern Art holds a G4 Cube as part of its collection. \\n\",\n",
       " '\\n',\n",
       " 'The Power Mac G4 Cube is a personal computer of the Macintosh family sold by Apple from July 2000 to 2001. \\n',\n",
       " '\\n',\n",
       " 'It was designed by Jonathan Ive and conceived by CEO Steve Jobs as a powerful, miniaturized desktop computer.']"
      ]
     },
     "execution_count": 376,
     "metadata": {},
     "output_type": "execute_result"
    }
   ],
   "source": [
    "f.readlines()"
   ]
  },
  {
   "cell_type": "code",
   "execution_count": 377,
   "id": "b44fcbc2",
   "metadata": {},
   "outputs": [
    {
     "data": {
      "text/plain": [
       "0"
      ]
     },
     "execution_count": 377,
     "metadata": {},
     "output_type": "execute_result"
    }
   ],
   "source": [
    "f.seek(0)"
   ]
  },
  {
   "cell_type": "code",
   "execution_count": 378,
   "id": "206da6c3",
   "metadata": {},
   "outputs": [
    {
     "data": {
      "text/plain": [
       "[['Apple developed new technologies and manufacturing methods for its 7.7-inch (20 cm) cubic computer housed in clear acrylic glass. \\n',\n",
       "  '\\n',\n",
       "  'The Cube was mid-range, between the consumer iMac G3 and the professional Power Mac G4. \\n',\n",
       "  '\\n',\n",
       "  'It was announced at the Macworld Expo on July 19, 2000. \\n',\n",
       "  '\\n',\n",
       "  'It won awards for its design, but reviews noted the high cost for its power, its limited expandability, and cosmetic defects. \\n',\n",
       "  '\\n',\n",
       "  'It was a commercial failure, selling just 150,000 units before production ended within a year. \\n',\n",
       "  '\\n',\n",
       "  'The Cube was a rare failure for the company under Jobs, after a successful period that brought the company back from the brink of bankruptcy. \\n',\n",
       "  '\\n',\n",
       "  'However, it influenced future Apple products, from the iPod to the Mac mini. \\n',\n",
       "  '\\n',\n",
       "  \"New York's Museum of Modern Art holds a G4 Cube as part of its collection. \\n\",\n",
       "  '\\n',\n",
       "  'The Power Mac G4 Cube is a personal computer of the Macintosh family sold by Apple from July 2000 to 2001. \\n',\n",
       "  '\\n',\n",
       "  'It was designed by Jonathan Ive and conceived by CEO Steve Jobs as a powerful, miniaturized desktop computer.']]"
      ]
     },
     "execution_count": 378,
     "metadata": {},
     "output_type": "execute_result"
    }
   ],
   "source": [
    "l"
   ]
  },
  {
   "cell_type": "code",
   "execution_count": 379,
   "id": "1d1ceceb",
   "metadata": {},
   "outputs": [
    {
     "data": {
      "text/plain": [
       "['%%%additional content111%%%',\n",
       " '%%%additional content222%%%',\n",
       " '%%%additional content333%%%',\n",
       " '%%%additional content444%%%',\n",
       " '%%%additional content555%%%']"
      ]
     },
     "execution_count": 379,
     "metadata": {},
     "output_type": "execute_result"
    }
   ],
   "source": [
    "l1"
   ]
  },
  {
   "cell_type": "code",
   "execution_count": 380,
   "id": "b553b751",
   "metadata": {},
   "outputs": [
    {
     "data": {
      "text/plain": [
       "[['Apple developed new technologies and manufacturing methods for its 7.7-inch (20 cm) cubic computer housed in clear acrylic glass. \\n',\n",
       "  '\\n',\n",
       "  'The Cube was mid-range, between the consumer iMac G3 and the professional Power Mac G4. \\n',\n",
       "  '\\n',\n",
       "  'It was announced at the Macworld Expo on July 19, 2000. \\n',\n",
       "  '\\n',\n",
       "  'It won awards for its design, but reviews noted the high cost for its power, its limited expandability, and cosmetic defects. \\n',\n",
       "  '\\n',\n",
       "  'It was a commercial failure, selling just 150,000 units before production ended within a year. \\n',\n",
       "  '\\n',\n",
       "  'The Cube was a rare failure for the company under Jobs, after a successful period that brought the company back from the brink of bankruptcy. \\n',\n",
       "  '\\n',\n",
       "  'However, it influenced future Apple products, from the iPod to the Mac mini. \\n',\n",
       "  '\\n',\n",
       "  \"New York's Museum of Modern Art holds a G4 Cube as part of its collection. \\n\",\n",
       "  '\\n',\n",
       "  'The Power Mac G4 Cube is a personal computer of the Macintosh family sold by Apple from July 2000 to 2001. \\n',\n",
       "  '\\n',\n",
       "  'It was designed by Jonathan Ive and conceived by CEO Steve Jobs as a powerful, miniaturized desktop computer.'],\n",
       " '%%%additional content111%%%',\n",
       " '%%%additional content222%%%',\n",
       " '%%%additional content333%%%',\n",
       " '%%%additional content444%%%',\n",
       " '%%%additional content555%%%']"
      ]
     },
     "execution_count": 380,
     "metadata": {},
     "output_type": "execute_result"
    }
   ],
   "source": [
    "l+l1"
   ]
  },
  {
   "cell_type": "code",
   "execution_count": 381,
   "id": "db5b2059",
   "metadata": {},
   "outputs": [
    {
     "data": {
      "text/plain": [
       "0"
      ]
     },
     "execution_count": 381,
     "metadata": {},
     "output_type": "execute_result"
    }
   ],
   "source": [
    "f.seek(0)"
   ]
  },
  {
   "cell_type": "code",
   "execution_count": 385,
   "id": "394c5cf8",
   "metadata": {},
   "outputs": [
    {
     "data": {
      "text/plain": [
       "[['Apple developed new technologies and manufacturing methods for its 7.7-inch (20 cm) cubic computer housed in clear acrylic glass. \\n',\n",
       "  '\\n',\n",
       "  'The Cube was mid-range, between the consumer iMac G3 and the professional Power Mac G4. \\n',\n",
       "  '\\n',\n",
       "  'It was announced at the Macworld Expo on July 19, 2000. \\n',\n",
       "  '\\n',\n",
       "  'It won awards for its design, but reviews noted the high cost for its power, its limited expandability, and cosmetic defects. \\n',\n",
       "  '\\n',\n",
       "  'It was a commercial failure, selling just 150,000 units before production ended within a year. \\n',\n",
       "  '\\n',\n",
       "  'The Cube was a rare failure for the company under Jobs, after a successful period that brought the company back from the brink of bankruptcy. \\n',\n",
       "  '\\n',\n",
       "  'However, it influenced future Apple products, from the iPod to the Mac mini. \\n',\n",
       "  '\\n',\n",
       "  \"New York's Museum of Modern Art holds a G4 Cube as part of its collection. \\n\",\n",
       "  '\\n',\n",
       "  'The Power Mac G4 Cube is a personal computer of the Macintosh family sold by Apple from July 2000 to 2001. \\n',\n",
       "  '\\n',\n",
       "  'It was designed by Jonathan Ive and conceived by CEO Steve Jobs as a powerful, miniaturized desktop computer.']]"
      ]
     },
     "execution_count": 385,
     "metadata": {},
     "output_type": "execute_result"
    }
   ],
   "source": [
    "l"
   ]
  },
  {
   "cell_type": "code",
   "execution_count": 386,
   "id": "ba947609",
   "metadata": {},
   "outputs": [
    {
     "data": {
      "text/plain": [
       "['%%%additional content111%%%',\n",
       " '%%%additional content222%%%',\n",
       " '%%%additional content333%%%',\n",
       " '%%%additional content444%%%',\n",
       " '%%%additional content555%%%']"
      ]
     },
     "execution_count": 386,
     "metadata": {},
     "output_type": "execute_result"
    }
   ],
   "source": [
    "l1"
   ]
  },
  {
   "cell_type": "code",
   "execution_count": 389,
   "id": "f8373378",
   "metadata": {},
   "outputs": [],
   "source": [
    "f.writelines(l1)"
   ]
  },
  {
   "cell_type": "code",
   "execution_count": 390,
   "id": "e02cddf0",
   "metadata": {},
   "outputs": [
    {
     "data": {
      "text/plain": [
       "[]"
      ]
     },
     "execution_count": 390,
     "metadata": {},
     "output_type": "execute_result"
    }
   ],
   "source": [
    "f.readlines()"
   ]
  },
  {
   "cell_type": "code",
   "execution_count": 391,
   "id": "fcd22085",
   "metadata": {},
   "outputs": [
    {
     "data": {
      "text/plain": [
       "0"
      ]
     },
     "execution_count": 391,
     "metadata": {},
     "output_type": "execute_result"
    }
   ],
   "source": [
    "f.seek(0)"
   ]
  },
  {
   "cell_type": "code",
   "execution_count": 393,
   "id": "148aa120",
   "metadata": {},
   "outputs": [],
   "source": [
    "f.writelines(l1)"
   ]
  },
  {
   "cell_type": "code",
   "execution_count": 394,
   "id": "0e8c9052",
   "metadata": {},
   "outputs": [
    {
     "data": {
      "text/plain": [
       "0"
      ]
     },
     "execution_count": 394,
     "metadata": {},
     "output_type": "execute_result"
    }
   ],
   "source": [
    "f.seek(0)"
   ]
  },
  {
   "cell_type": "code",
   "execution_count": 395,
   "id": "545b6ee1",
   "metadata": {},
   "outputs": [
    {
     "data": {
      "text/plain": [
       "['%%%additional content111%%%%%%additional content222%%%%%%additional content333%%%%%%additional content444%%%%%%additional content555%%%he Cube was mid-range, between the consumer iMac G3 and the professional Power Mac G4. \\n',\n",
       " '\\n',\n",
       " 'It was announced at the Macworld Expo on July 19, 2000. \\n',\n",
       " '\\n',\n",
       " 'It won awards for its design, but reviews noted the high cost for its power, its limited expandability, and cosmetic defects. \\n',\n",
       " '\\n',\n",
       " 'It was a commercial failure, selling just 150,000 units before production ended within a year. \\n',\n",
       " '\\n',\n",
       " 'The Cube was a rare failure for the company under Jobs, after a successful period that brought the company back from the brink of bankruptcy. \\n',\n",
       " '\\n',\n",
       " 'However, it influenced future Apple products, from the iPod to the Mac mini. \\n',\n",
       " '\\n',\n",
       " \"New York's Museum of Modern Art holds a G4 Cube as part of its collection. \\n\",\n",
       " '\\n',\n",
       " 'The Power Mac G4 Cube is a personal computer of the Macintosh family sold by Apple from July 2000 to 2001. \\n',\n",
       " '\\n',\n",
       " 'It was designed by Jonathan Ive and conceived by CEO Steve Jobs as a powerful, miniaturized desktop computer.%%%additional content111%%%%%%additional content222%%%%%%additional content333%%%%%%additional content444%%%%%%additional content555%%%%%%additional content111%%%%%%additional content222%%%%%%additional content333%%%%%%additional content444%%%%%%additional content555%%%']"
      ]
     },
     "execution_count": 395,
     "metadata": {},
     "output_type": "execute_result"
    }
   ],
   "source": [
    "f.readlines()"
   ]
  },
  {
   "cell_type": "code",
   "execution_count": 396,
   "id": "75e24c03",
   "metadata": {},
   "outputs": [
    {
     "data": {
      "text/plain": [
       "1311"
      ]
     },
     "execution_count": 396,
     "metadata": {},
     "output_type": "execute_result"
    }
   ],
   "source": [
    "f.tell()"
   ]
  },
  {
   "cell_type": "code",
   "execution_count": 397,
   "id": "415f9868",
   "metadata": {},
   "outputs": [],
   "source": [
    "f.close()"
   ]
  },
  {
   "cell_type": "code",
   "execution_count": null,
   "id": "0fec711d",
   "metadata": {},
   "outputs": [],
   "source": []
  }
 ],
 "metadata": {
  "kernelspec": {
   "display_name": "Python 3 (ipykernel)",
   "language": "python",
   "name": "python3"
  },
  "language_info": {
   "codemirror_mode": {
    "name": "ipython",
    "version": 3
   },
   "file_extension": ".py",
   "mimetype": "text/x-python",
   "name": "python",
   "nbconvert_exporter": "python",
   "pygments_lexer": "ipython3",
   "version": "3.9.7"
  }
 },
 "nbformat": 4,
 "nbformat_minor": 5
}
