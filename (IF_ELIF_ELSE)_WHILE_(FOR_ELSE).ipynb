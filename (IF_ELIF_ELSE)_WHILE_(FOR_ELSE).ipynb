{
 "cells": [
  {
   "cell_type": "code",
   "execution_count": 6,
   "id": "c2404e82",
   "metadata": {},
   "outputs": [
    {
     "name": "stdout",
     "output_type": "stream",
     "text": [
      "input a number lesser than 34 -- 24\n",
      "data input is lesser than 34 and correct\n"
     ]
    }
   ],
   "source": [
    "a=int(input(\"input a number lesser than 34 -- \"))\n",
    "if a<34 :\n",
    "    print(\"data input is lesser than 34 and correct\")"
   ]
  },
  {
   "cell_type": "code",
   "execution_count": 9,
   "id": "7a8b3f27",
   "metadata": {},
   "outputs": [
    {
     "name": "stdout",
     "output_type": "stream",
     "text": [
      "input a number lesser than 34 -- 56\n",
      "data is greater than 34 and incorrect\n"
     ]
    }
   ],
   "source": [
    "a=int(input(\"input a number lesser than 34 -- \"))\n",
    "if a<34 :\n",
    "    print(\"data input is lesser than 34 and correct\")\n",
    "else:\n",
    "    print(\"data is greater than 34 and incorrect\")"
   ]
  },
  {
   "cell_type": "code",
   "execution_count": 12,
   "id": "e0051b59",
   "metadata": {},
   "outputs": [
    {
     "name": "stdout",
     "output_type": "stream",
     "text": [
      "input a number lesser than 34 -- 120\n",
      "data is greater than 34 and incorrect\n"
     ]
    }
   ],
   "source": [
    "a=int(input(\"input a number lesser than 34 -- \"))\n",
    "if a<34 :\n",
    "    print(\"data input is lesser than 34 and correct\")\n",
    "elif a<100:\n",
    "    print(\"data is lesser than 100\")\n",
    "else:\n",
    "    print(\"data is greater than 34 and incorrect\")"
   ]
  },
  {
   "cell_type": "code",
   "execution_count": 46,
   "id": "57a399f6",
   "metadata": {},
   "outputs": [
    {
     "name": "stdout",
     "output_type": "stream",
     "text": [
      "enter your salary22\n",
      "I will go for saving\n"
     ]
    }
   ],
   "source": [
    "salary = int(input(\"enter your salary\"))\n",
    "if salary > 1000:\n",
    "    print(\"your salary is good\")\n",
    "    if salary < 5000 :\n",
    "        print(\"I will go for nano\")\n",
    "        if True:\n",
    "            print(\"false code\")\n",
    "    elif salary < 10000 :\n",
    "        print(\"I will go for maruti\")\n",
    "    else :\n",
    "        print(\"I will go for toyota\")\n",
    "elif salary > 500 :\n",
    "    print(\"I will buy a bike\")\n",
    "elif salary > 100 :\n",
    "    print(\"I will not buy anything\")\n",
    "else :\n",
    "    print (\"I will go for saving\")    "
   ]
  },
  {
   "cell_type": "code",
   "execution_count": 47,
   "id": "e47d7be2",
   "metadata": {},
   "outputs": [
    {
     "name": "stdout",
     "output_type": "stream",
     "text": [
      "this is a valid statement\n"
     ]
    }
   ],
   "source": [
    "a=10\n",
    "b=20\n",
    "\n",
    "if a==10 and b==20:\n",
    "    print(\"this is a valid statement\")"
   ]
  },
  {
   "cell_type": "code",
   "execution_count": 48,
   "id": "888bf95d",
   "metadata": {},
   "outputs": [
    {
     "data": {
      "text/plain": [
       "True"
      ]
     },
     "execution_count": 48,
     "metadata": {},
     "output_type": "execute_result"
    }
   ],
   "source": [
    "a==10 and b==20"
   ]
  },
  {
   "cell_type": "code",
   "execution_count": 49,
   "id": "aab121e4",
   "metadata": {},
   "outputs": [
    {
     "data": {
      "text/plain": [
       "True"
      ]
     },
     "execution_count": 49,
     "metadata": {},
     "output_type": "execute_result"
    }
   ],
   "source": [
    "a==10"
   ]
  },
  {
   "cell_type": "code",
   "execution_count": 50,
   "id": "014b2f19",
   "metadata": {},
   "outputs": [
    {
     "data": {
      "text/plain": [
       "True"
      ]
     },
     "execution_count": 50,
     "metadata": {},
     "output_type": "execute_result"
    }
   ],
   "source": [
    "b==20"
   ]
  },
  {
   "cell_type": "code",
   "execution_count": 55,
   "id": "8f28fd6e",
   "metadata": {},
   "outputs": [
    {
     "name": "stdout",
     "output_type": "stream",
     "text": [
      "this statement is valid inside elif\n"
     ]
    }
   ],
   "source": [
    "a=10\n",
    "b=20\n",
    "\n",
    "if a==10 and b>20:\n",
    "    print(\"this is a valid statement\")\n",
    "elif a==10 and b<=20 :\n",
    "    print(\"this statement is valid inside elif\")\n",
    "else :\n",
    "    print(\"condition is not valid\")"
   ]
  },
  {
   "cell_type": "code",
   "execution_count": 52,
   "id": "a96307db",
   "metadata": {},
   "outputs": [
    {
     "data": {
      "text/plain": [
       "False"
      ]
     },
     "execution_count": 52,
     "metadata": {},
     "output_type": "execute_result"
    }
   ],
   "source": [
    "a==10 and b>20"
   ]
  },
  {
   "cell_type": "code",
   "execution_count": 59,
   "id": "23439119",
   "metadata": {},
   "outputs": [
    {
     "name": "stdout",
     "output_type": "stream",
     "text": [
      "this is a valid statement\n"
     ]
    }
   ],
   "source": [
    "a=10\n",
    "b=20\n",
    "\n",
    "if a==10 or b>20:\n",
    "    print(\"this is a valid statement\")\n",
    "elif a==10 and b<=20 :\n",
    "    print(\"this statement is valid inside elif\")\n",
    "else :\n",
    "    print(\"condition is not valid\")"
   ]
  },
  {
   "cell_type": "code",
   "execution_count": 60,
   "id": "77278f9d",
   "metadata": {},
   "outputs": [
    {
     "name": "stdout",
     "output_type": "stream",
     "text": [
      "Sach\n",
      "Kara\n"
     ]
    }
   ],
   "source": [
    "c=input()\n",
    "d=input()"
   ]
  },
  {
   "cell_type": "code",
   "execution_count": 61,
   "id": "14cabb90",
   "metadata": {},
   "outputs": [
    {
     "data": {
      "text/plain": [
       "'Sach'"
      ]
     },
     "execution_count": 61,
     "metadata": {},
     "output_type": "execute_result"
    }
   ],
   "source": [
    "c\n"
   ]
  },
  {
   "cell_type": "code",
   "execution_count": 73,
   "id": "89224761",
   "metadata": {},
   "outputs": [
    {
     "data": {
      "text/plain": [
       "str"
      ]
     },
     "execution_count": 73,
     "metadata": {},
     "output_type": "execute_result"
    }
   ],
   "source": [
    "type(d)"
   ]
  },
  {
   "cell_type": "code",
   "execution_count": 83,
   "id": "12cf4074",
   "metadata": {},
   "outputs": [
    {
     "name": "stdout",
     "output_type": "stream",
     "text": [
      "Input First Name :Sach\n",
      "Input Last Name: Kara\n",
      "correct first and last name\n"
     ]
    }
   ],
   "source": [
    "c=input(\"Input First Name :\")\n",
    "d=input(\"Input Last Name: \")\n",
    "if c==\"Sach\" and d==\"Kara\" :\n",
    "    print(\"correct first and last name\")\n",
    "elif c==\"Sach\" and d!=\"Kara\":\n",
    "    print(\"correct first name, incorrect last name\")\n",
    "elif c!=\"Sach\" and d==\"Kara\":\n",
    "    print(\"incorrect first name, correct last name\")\n",
    "else :\n",
    "    print(\"incorrect first and last name\")    "
   ]
  },
  {
   "cell_type": "code",
   "execution_count": 91,
   "id": "f4e00605",
   "metadata": {},
   "outputs": [
    {
     "name": "stdout",
     "output_type": "stream",
     "text": [
      "speed within range\n",
      "speed within range\n",
      "speed within range\n",
      "speed within range\n",
      "speed within range\n",
      "speed within range\n",
      "speed within range\n",
      "speed within range\n",
      "speed within range\n"
     ]
    }
   ],
   "source": [
    "initial_speed=0\n",
    "final_speed=100\n",
    "count = 1\n",
    "\n",
    "while initial_speed < final_speed :\n",
    "    print(\"speed within range\")\n",
    "    count = count +1\n",
    "    if count == 10 :\n",
    "        break"
   ]
  },
  {
   "cell_type": "code",
   "execution_count": 93,
   "id": "da2dcdb5",
   "metadata": {},
   "outputs": [
    {
     "name": "stdout",
     "output_type": "stream",
     "text": [
      "1\n",
      "2\n",
      "3\n",
      "4\n"
     ]
    }
   ],
   "source": [
    "i=1\n",
    "j=5\n",
    "\n",
    "while i<j :\n",
    "    print(i)\n",
    "    i=i+1"
   ]
  },
  {
   "cell_type": "code",
   "execution_count": 2,
   "id": "d4a332e1",
   "metadata": {},
   "outputs": [],
   "source": [
    "#Live Class"
   ]
  },
  {
   "cell_type": "code",
   "execution_count": 3,
   "id": "febf11ef",
   "metadata": {},
   "outputs": [],
   "source": [
    "a=10"
   ]
  },
  {
   "cell_type": "code",
   "execution_count": 4,
   "id": "be5314fc",
   "metadata": {},
   "outputs": [
    {
     "name": "stdout",
     "output_type": "stream",
     "text": [
      "my name is sach\n"
     ]
    }
   ],
   "source": [
    "if a<15:\n",
    "    print(\"my name is sach\")"
   ]
  },
  {
   "cell_type": "code",
   "execution_count": 6,
   "id": "8ac1ba28",
   "metadata": {},
   "outputs": [
    {
     "name": "stdout",
     "output_type": "stream",
     "text": [
      "10 is than 3\n"
     ]
    }
   ],
   "source": [
    "if 5<10:\n",
    "    print(\"10 is than 3\")\n",
    "else:\n",
    "    print(\"if statement is wrong\")"
   ]
  },
  {
   "cell_type": "code",
   "execution_count": 9,
   "id": "7e646063",
   "metadata": {},
   "outputs": [
    {
     "name": "stdout",
     "output_type": "stream",
     "text": [
      "I won't be able to buy anything\n"
     ]
    }
   ],
   "source": [
    "income=100\n",
    "if income <50:\n",
    "    print(\"I will be able to buy phone\")\n",
    "elif income <70:\n",
    "    print(\"I will be able to buy car\")\n",
    "elif income<90:\n",
    "    print(\"I will be able to rent a house\")\n",
    "else:\n",
    "    print(\"I won't be able to buy anything\")"
   ]
  },
  {
   "cell_type": "code",
   "execution_count": 10,
   "id": "943808aa",
   "metadata": {},
   "outputs": [
    {
     "name": "stdout",
     "output_type": "stream",
     "text": [
      "10\n",
      "I will be able to buy phone\n"
     ]
    }
   ],
   "source": [
    "income=int(input())\n",
    "if income <50:\n",
    "    print(\"I will be able to buy phone\")\n",
    "elif income <70:\n",
    "    print(\"I will be able to buy car\")\n",
    "elif income<90:\n",
    "    print(\"I will be able to rent a house\")\n",
    "else:\n",
    "    print(\"I won't be able to buy anything\")"
   ]
  },
  {
   "cell_type": "code",
   "execution_count": 14,
   "id": "a5ca7062",
   "metadata": {},
   "outputs": [
    {
     "name": "stdout",
     "output_type": "stream",
     "text": [
      "10000\n",
      "won't be able to give discount\n"
     ]
    }
   ],
   "source": [
    "Total_price=int(input())\n",
    "if Total_price>20000:\n",
    "    discount=Total_price*.20\n",
    "    print(\"Discount will be \",discount)\n",
    "elif Total_price<=7000:\n",
    "    discount=Total_price*0.05\n",
    "    print(\"Discount will be \",discount)\n",
    "else:\n",
    "    print(\"won't be able to give discount\")"
   ]
  },
  {
   "cell_type": "code",
   "execution_count": 17,
   "id": "e6aa281e",
   "metadata": {},
   "outputs": [
    {
     "name": "stdout",
     "output_type": "stream",
     "text": [
      "SACH5\n",
      "You will be able to get discount of 5%\n",
      "you will be able to get one neuron with this amount  6650.0\n"
     ]
    }
   ],
   "source": [
    "coup=input()\n",
    "if coup==\"SACH5\":\n",
    "    print(\"You will be able to get discount of 5%\")\n",
    "    paid_amount=7000-7000*0.05\n",
    "    print(\"you will be able to get one neuron with this amount \",paid_amount)\n",
    "else:\n",
    "    print(\"kindly use valid coupon code\")"
   ]
  },
  {
   "cell_type": "code",
   "execution_count": 26,
   "id": "16365946",
   "metadata": {},
   "outputs": [
    {
     "name": "stdout",
     "output_type": "stream",
     "text": [
      "6\n",
      "It will be difficult\n"
     ]
    }
   ],
   "source": [
    "study_hour=int(input())\n",
    "if study_hour<1:\n",
    "    print(\"It may take 8-9 month of time to make transition\")\n",
    "elif study_hour<4 and study_hour>1:\n",
    "    print(\"It may take 6 months for transition\")\n",
    "elif study_hour>10:\n",
    "    print(\"It will take 3 months of time for transition\")\n",
    "else:\n",
    "    print(\"It will be difficult\")"
   ]
  },
  {
   "cell_type": "code",
   "execution_count": 27,
   "id": "6a3cbf96",
   "metadata": {},
   "outputs": [
    {
     "name": "stdout",
     "output_type": "stream",
     "text": [
      "valid\n"
     ]
    }
   ],
   "source": [
    "a=9\n",
    "if a==9: print(\"valid\")"
   ]
  },
  {
   "cell_type": "code",
   "execution_count": 47,
   "id": "baaf8fde",
   "metadata": {},
   "outputs": [
    {
     "name": "stdout",
     "output_type": "stream",
     "text": [
      "enter a string to start\n",
      "kindly contact ineuron\n"
     ]
    }
   ],
   "source": [
    "s=input(\"enter a string to start\")\n",
    "if s==\"oneneuron\":\n",
    "    course=input(\"enter a course name\")\n",
    "    if course==\"DSA\":\n",
    "        print(\"yes it's available under oneneuron and in multiple mode for job preparation and core concept\")\n",
    "    elif course==\"Blockchain\":\n",
    "        print(\"This is not available. Raise demand and will fulfill in 60 days\")\n",
    "    elif course==\"FSDS\":\n",
    "        print(\"It's availbale and you can start learning\")\n",
    "    else:\n",
    "        print(\"kindly raise your demand\")\n",
    "elif s==\"oneneuronservice\":\n",
    "    service=input(\"enter a service name\")\n",
    "    if service==\"courserequest\":\n",
    "        print(\"Raise course request demand and will fulfill in 60 days\")\n",
    "    elif service==\"module\":\n",
    "        print(\"Raise module demand and will fulfill in 60 days\")\n",
    "    elif service==\"doubt\":\n",
    "        print(\"Raise doubt demand and will fulfill in 60 days\")\n",
    "    elif service==\"workwithus\":\n",
    "        print(\"Raise workwithus demand and will fulfill in 60 days\")\n",
    "    else:\n",
    "        print(\"kindly provide us feedback\")\n",
    "else:\n",
    "    print(\"kindly contact ineuron\")"
   ]
  },
  {
   "cell_type": "code",
   "execution_count": 48,
   "id": "a3032df2",
   "metadata": {},
   "outputs": [
    {
     "name": "stdout",
     "output_type": "stream",
     "text": [
      "1\n",
      "2\n",
      "3\n",
      "4\n",
      "5\n",
      "6\n"
     ]
    }
   ],
   "source": [
    "l=[1,2,3,4,5,6]\n",
    "for i in l :\n",
    "    print(i)"
   ]
  },
  {
   "cell_type": "code",
   "execution_count": 49,
   "id": "7df2b419",
   "metadata": {},
   "outputs": [
    {
     "data": {
      "text/plain": [
       "6"
      ]
     },
     "execution_count": 49,
     "metadata": {},
     "output_type": "execute_result"
    }
   ],
   "source": [
    "i"
   ]
  },
  {
   "cell_type": "code",
   "execution_count": 53,
   "id": "4bd812a3",
   "metadata": {},
   "outputs": [
    {
     "name": "stdout",
     "output_type": "stream",
     "text": [
      "s\n",
      "a\n",
      "c\n",
      "h\n"
     ]
    }
   ],
   "source": [
    "s=\"sach\"\n",
    "for i in s:\n",
    "    print(i)"
   ]
  },
  {
   "cell_type": "code",
   "execution_count": 54,
   "id": "58a8499a",
   "metadata": {},
   "outputs": [],
   "source": [
    "t=(1,2,3,4,5,6)"
   ]
  },
  {
   "cell_type": "code",
   "execution_count": 55,
   "id": "0947333f",
   "metadata": {},
   "outputs": [
    {
     "name": "stdout",
     "output_type": "stream",
     "text": [
      "1\n",
      "2\n",
      "3\n",
      "4\n",
      "5\n",
      "6\n"
     ]
    }
   ],
   "source": [
    "for i in t:\n",
    "    print(i)"
   ]
  },
  {
   "cell_type": "code",
   "execution_count": 62,
   "id": "94711c34",
   "metadata": {},
   "outputs": [
    {
     "name": "stdout",
     "output_type": "stream",
     "text": [
      "<class 'int'> 1\n",
      "<class 'int'> 4\n",
      "<class 'float'> 5.6\n",
      "<class 'complex'> (4+5j)\n",
      "<class 'str'> sach\n",
      "<class 'bool'> True\n"
     ]
    }
   ],
   "source": [
    "l=[1,4,5.6,4+5j,\"sach\",True]\n",
    "for i in l:\n",
    "    print(type(i),i)\n",
    "\n"
   ]
  },
  {
   "cell_type": "code",
   "execution_count": 79,
   "id": "4688cdf4",
   "metadata": {},
   "outputs": [
    {
     "name": "stdout",
     "output_type": "stream",
     "text": [
      "[3]\n",
      "[3, 6]\n",
      "[3, 6, 7.6]\n",
      "###########\n",
      "[3, 6, 7.6]\n"
     ]
    }
   ],
   "source": [
    "l=[1,4,5.6]\n",
    "l1=[]\n",
    "for i in l:\n",
    "    l1.append(i+2)\n",
    "    print(l1)\n",
    "print(\"###########\")\n",
    "print(l1)"
   ]
  },
  {
   "cell_type": "code",
   "execution_count": 64,
   "id": "780c87c6",
   "metadata": {},
   "outputs": [
    {
     "data": {
      "text/plain": [
       "5.6"
      ]
     },
     "execution_count": 64,
     "metadata": {},
     "output_type": "execute_result"
    }
   ],
   "source": [
    "i"
   ]
  },
  {
   "cell_type": "code",
   "execution_count": 68,
   "id": "692825d2",
   "metadata": {},
   "outputs": [
    {
     "data": {
      "text/plain": [
       "[3, 6, 7.6]"
      ]
     },
     "execution_count": 68,
     "metadata": {},
     "output_type": "execute_result"
    }
   ],
   "source": [
    "l1"
   ]
  },
  {
   "cell_type": "code",
   "execution_count": 85,
   "id": "6bea9e28",
   "metadata": {},
   "outputs": [
    {
     "name": "stdout",
     "output_type": "stream",
     "text": [
      "2\n",
      "45\n",
      "5\n",
      "6\n",
      "7\n"
     ]
    }
   ],
   "source": [
    "l2=[2,45,45.65,5+8j,True,[5,6,7,5.6,\"kara\"]]\n",
    "for i in l2:\n",
    "    if type(i)==int:\n",
    "        print(i)\n",
    "    elif type(i) == list:\n",
    "        for j in i :\n",
    "            if type(j)==int:\n",
    "                print(j)"
   ]
  },
  {
   "cell_type": "code",
   "execution_count": null,
   "id": "64a2f821",
   "metadata": {},
   "outputs": [],
   "source": [
    "l3=[2,45,78,12,\"sach\",6+7j,[5,6,78,\"sach\"]]\n",
    "#q1. try to print index of all element\n",
    "#q2. try to extract all the list of char if element is string\n",
    "#q3. try to return a list after doing a square of all the int element"
   ]
  },
  {
   "cell_type": "code",
   "execution_count": 164,
   "id": "6ac521bd",
   "metadata": {},
   "outputs": [
    {
     "name": "stdout",
     "output_type": "stream",
     "text": [
      "Index of Element using Index function: \n",
      "0\n",
      "1\n",
      "2\n",
      "3\n",
      "3\n",
      "3\n",
      "6\n",
      "7\n",
      "8\n",
      "9\n",
      "\n",
      "Index of Element using Range function: \n",
      "0 , 2\n",
      "1 , 45\n",
      "2 , 78\n",
      "3 , 12\n",
      "4 , 12\n",
      "5 , 12\n",
      "6 , sach\n",
      "7 , kara\n",
      "8 , (6+7j)\n",
      "9 , [5, 6, 78, 'sach']\n",
      "\n",
      "Index of Element using Enumerate function: \n",
      "(0, 2)\n",
      "(1, 45)\n",
      "(2, 78)\n",
      "(3, 12)\n",
      "(4, 12)\n",
      "(5, 12)\n",
      "(6, 'sach')\n",
      "(7, 'kara')\n",
      "(8, (6+7j))\n",
      "(9, [5, 6, 78, 'sach'])\n",
      "\n",
      "List of char\n",
      "['s', 'a', 'c', 'h']\n",
      "['s', 'a', 'c', 'h', 'k', 'a', 'r', 'a']\n",
      "['s', 'a', 'c', 'h', 'k', 'a', 'r', 'a', 's', 'a', 'c', 'h']\n",
      "\n",
      "List after doing a square\n",
      "[4, 2025, 6084, 144, 144, 144]\n"
     ]
    }
   ],
   "source": [
    "l3=[2,45,78,12,12,12,\"sach\",\"kara\",6+7j,[5,6,78,\"sach\"]]\n",
    "l4=[]\n",
    "l5=[]\n",
    "print(\"\"\"Index of Element using Index function: \"\"\")\n",
    "for i in l3:\n",
    "    print(l3.index(i))\n",
    "       \n",
    "print(\"\"\"\n",
    "Index of Element using Range function: \"\"\")\n",
    "for i in range(len(l3)):\n",
    "    print(i,\",\",l3[i])\n",
    "\n",
    "print(\"\"\"\n",
    "Index of Element using Enumerate function: \"\"\")\n",
    "for i in enumerate(l3):\n",
    "    print(i)\n",
    "\n",
    "print(\"\"\"\n",
    "List of char\"\"\")\n",
    "for i in l3:\n",
    "    if type(i)==str:\n",
    "        for j in i:\n",
    "            l5.append(j)\n",
    "        print(l5)\n",
    "    elif type(i)==list:\n",
    "        for k in i:\n",
    "            if type(k)==str:\n",
    "                for l in k:\n",
    "                    l5.append(l)\n",
    "print(l5)\n",
    "        \n",
    "print(\"\"\"\n",
    "List after doing a square\"\"\")\n",
    "for i in l3:\n",
    "    if type(i)==int:\n",
    "        l4.append(i*i)\n",
    "print(l4)\n",
    "    "
   ]
  },
  {
   "cell_type": "code",
   "execution_count": 98,
   "id": "7e0b1643",
   "metadata": {},
   "outputs": [
    {
     "data": {
      "text/plain": [
       "range(0, 4)"
      ]
     },
     "execution_count": 98,
     "metadata": {},
     "output_type": "execute_result"
    }
   ],
   "source": [
    "range(4)"
   ]
  },
  {
   "cell_type": "code",
   "execution_count": 104,
   "id": "8bb640c2",
   "metadata": {},
   "outputs": [
    {
     "name": "stdout",
     "output_type": "stream",
     "text": [
      "(0, 2)\n",
      "(1, 45)\n",
      "(2, 78)\n",
      "(3, 12)\n",
      "(4, 12)\n",
      "(5, 12)\n",
      "(6, 'sach')\n",
      "(7, (6+7j))\n",
      "(8, [5, 6, 78, 'sach'])\n"
     ]
    }
   ],
   "source": [
    "for i in enumerate(l3):\n",
    "    print(i)"
   ]
  },
  {
   "cell_type": "code",
   "execution_count": 105,
   "id": "24091168",
   "metadata": {},
   "outputs": [
    {
     "name": "stdout",
     "output_type": "stream",
     "text": [
      "0 2\n",
      "1 45\n",
      "2 78\n",
      "3 12\n",
      "4 12\n",
      "5 12\n",
      "6 sach\n",
      "7 (6+7j)\n",
      "8 [5, 6, 78, 'sach']\n"
     ]
    }
   ],
   "source": [
    "for i,j in enumerate(l3):\n",
    "    print(i,j)"
   ]
  },
  {
   "cell_type": "code",
   "execution_count": 3,
   "id": "be0b1b4f",
   "metadata": {},
   "outputs": [
    {
     "name": "stdout",
     "output_type": "stream",
     "text": [
      "name : sach\n",
      "emailid : sach\n",
      "phone no. : sach\n",
      "address : sach\n"
     ]
    }
   ],
   "source": [
    "l=[\"name\",\"emailid\",\"phone no.\",\"address\"]\n",
    "for i in l:\n",
    "    print(i+\" :sach\")"
   ]
  },
  {
   "cell_type": "code",
   "execution_count": 5,
   "id": "7788a77a",
   "metadata": {},
   "outputs": [
    {
     "name": "stdout",
     "output_type": "stream",
     "text": [
      "i\n",
      "n\n",
      "e\n",
      "u\n",
      "r\n",
      "o\n",
      "n\n"
     ]
    }
   ],
   "source": [
    "s=\"ineuron\"\n",
    "for i in s:\n",
    "    print(i)"
   ]
  },
  {
   "cell_type": "code",
   "execution_count": 6,
   "id": "f297084c",
   "metadata": {},
   "outputs": [
    {
     "data": {
      "text/plain": [
       "['name', 'emailid', 'phone no.', 'address']"
      ]
     },
     "execution_count": 6,
     "metadata": {},
     "output_type": "execute_result"
    }
   ],
   "source": [
    "l"
   ]
  },
  {
   "cell_type": "code",
   "execution_count": 9,
   "id": "0723099c",
   "metadata": {},
   "outputs": [
    {
     "name": "stdout",
     "output_type": "stream",
     "text": [
      "name\n",
      "emailid\n",
      "phone no.\n",
      "address\n",
      "once for loop is complete itself then it will come to else\n"
     ]
    }
   ],
   "source": [
    "for i in l:\n",
    "    print(i)\n",
    "else :\n",
    "    print(\"once for loop is complete itself then it will come to else\")"
   ]
  },
  {
   "cell_type": "code",
   "execution_count": 10,
   "id": "b63e13de",
   "metadata": {},
   "outputs": [
    {
     "data": {
      "text/plain": [
       "['name', 'emailid', 'phone no.', 'address']"
      ]
     },
     "execution_count": 10,
     "metadata": {},
     "output_type": "execute_result"
    }
   ],
   "source": [
    "l"
   ]
  },
  {
   "cell_type": "code",
   "execution_count": 21,
   "id": "de3241d6",
   "metadata": {},
   "outputs": [
    {
     "name": "stdout",
     "output_type": "stream",
     "text": [
      "name\n",
      "emailid\n",
      "phone no.\n"
     ]
    }
   ],
   "source": [
    "for i in l:\n",
    "    if i == \"address\":\n",
    "        break\n",
    "    print(i)\n",
    "else:\n",
    "    print(\"check this statement\")"
   ]
  },
  {
   "cell_type": "code",
   "execution_count": 28,
   "id": "58bb7387",
   "metadata": {},
   "outputs": [
    {
     "name": "stdout",
     "output_type": "stream",
     "text": [
      "s\n",
      "a\n",
      "c\n"
     ]
    }
   ],
   "source": [
    "s=\"sach\"\n",
    "for i in s:\n",
    "    if i==\"h\":\n",
    "        break\n",
    "    print(i)\n",
    "else:\n",
    "    print(\"don't execute unless not printing my name\")"
   ]
  },
  {
   "cell_type": "code",
   "execution_count": 42,
   "id": "abaf8b4c",
   "metadata": {},
   "outputs": [
    {
     "name": "stdout",
     "output_type": "stream",
     "text": [
      "1\n",
      "2\n",
      "3\n",
      "4\n",
      "5\n"
     ]
    }
   ],
   "source": [
    "a=1\n",
    "while a<6:\n",
    "    print(a)\n",
    "    a=a+1"
   ]
  },
  {
   "cell_type": "code",
   "execution_count": 51,
   "id": "f6471d15",
   "metadata": {},
   "outputs": [
    {
     "name": "stdout",
     "output_type": "stream",
     "text": [
      "1\n",
      "2\n",
      "3\n",
      "4\n"
     ]
    }
   ],
   "source": [
    "a=1\n",
    "while a<10:\n",
    "    print(a)\n",
    "    if a==4:\n",
    "        break\n",
    "    a=a+1"
   ]
  },
  {
   "cell_type": "code",
   "execution_count": 52,
   "id": "d369458e",
   "metadata": {
    "scrolled": true
   },
   "outputs": [
    {
     "name": "stdout",
     "output_type": "stream",
     "text": [
      "1\n",
      "2\n",
      "3\n",
      "4\n"
     ]
    }
   ],
   "source": [
    "a=1\n",
    "while a<5:\n",
    "    print(a)\n",
    "    a=a+1\n",
    "    if a==3:\n",
    "        continue\n",
    "    "
   ]
  },
  {
   "cell_type": "code",
   "execution_count": 59,
   "id": "ddb6272f",
   "metadata": {},
   "outputs": [],
   "source": [
    "a=1\n",
    "while a<5:\n",
    "    break"
   ]
  },
  {
   "cell_type": "code",
   "execution_count": 65,
   "id": "74afbc9d",
   "metadata": {},
   "outputs": [
    {
     "data": {
      "text/plain": [
       "[0, 1, 2, 3, 4, 5]"
      ]
     },
     "execution_count": 65,
     "metadata": {},
     "output_type": "execute_result"
    }
   ],
   "source": [
    "list(range(6))"
   ]
  },
  {
   "cell_type": "code",
   "execution_count": 68,
   "id": "b007cb39",
   "metadata": {},
   "outputs": [
    {
     "data": {
      "text/plain": [
       "[0, 1, 2, 3, 4, 5, 6]"
      ]
     },
     "execution_count": 68,
     "metadata": {},
     "output_type": "execute_result"
    }
   ],
   "source": [
    "list(range(0,7))"
   ]
  },
  {
   "cell_type": "code",
   "execution_count": 70,
   "id": "7b901ca9",
   "metadata": {},
   "outputs": [
    {
     "data": {
      "text/plain": [
       "[4, 5, 6, 7, 8, 9]"
      ]
     },
     "execution_count": 70,
     "metadata": {},
     "output_type": "execute_result"
    }
   ],
   "source": [
    "list(range(4,10))"
   ]
  },
  {
   "cell_type": "code",
   "execution_count": 75,
   "id": "baea54bc",
   "metadata": {},
   "outputs": [
    {
     "data": {
      "text/plain": [
       "[3, 5, 7, 9, 11, 13, 15, 17, 19]"
      ]
     },
     "execution_count": 75,
     "metadata": {},
     "output_type": "execute_result"
    }
   ],
   "source": [
    "list(range(3,20,2))"
   ]
  },
  {
   "cell_type": "code",
   "execution_count": 80,
   "id": "829c29ff",
   "metadata": {},
   "outputs": [
    {
     "data": {
      "text/plain": [
       "[]"
      ]
     },
     "execution_count": 80,
     "metadata": {},
     "output_type": "execute_result"
    }
   ],
   "source": [
    "list(range(4,10,-1))"
   ]
  },
  {
   "cell_type": "code",
   "execution_count": 82,
   "id": "ec2a6c3a",
   "metadata": {},
   "outputs": [
    {
     "data": {
      "text/plain": [
       "[10, 9, 8, 7]"
      ]
     },
     "execution_count": 82,
     "metadata": {},
     "output_type": "execute_result"
    }
   ],
   "source": [
    "list(range(10,6,-1))"
   ]
  },
  {
   "cell_type": "code",
   "execution_count": 83,
   "id": "fdde7a45",
   "metadata": {},
   "outputs": [
    {
     "name": "stdout",
     "output_type": "stream",
     "text": [
      "0\n",
      "1\n",
      "2\n",
      "3\n",
      "4\n",
      "5\n",
      "6\n"
     ]
    }
   ],
   "source": [
    "for i in range(7):\n",
    "    print(i)"
   ]
  },
  {
   "cell_type": "code",
   "execution_count": 104,
   "id": "9fdba482",
   "metadata": {},
   "outputs": [
    {
     "name": "stdout",
     "output_type": "stream",
     "text": [
      "sach \r\n",
      "sach sach \r\n",
      "sach sach sach \r\n",
      "sach sach sach sach \r\n",
      "sach sach sach sach sach \r\n"
     ]
    }
   ],
   "source": [
    "n=5\n",
    "for i in range(0,n):\n",
    "    for j in range(0,i+1):\n",
    "        print(\"sach \", end= \"\")\n",
    "    print(\"\\r\")"
   ]
  },
  {
   "cell_type": "code",
   "execution_count": 105,
   "id": "eedca91f",
   "metadata": {},
   "outputs": [
    {
     "name": "stdout",
     "output_type": "stream",
     "text": [
      "1\n",
      "2\n",
      "3\n",
      "4\n",
      "5\n",
      "3\n",
      "45\n",
      "78\n"
     ]
    }
   ],
   "source": [
    "l=[1,2,3,4,5,3,45,78]\n",
    "for i in l:\n",
    "    print (i)"
   ]
  },
  {
   "cell_type": "code",
   "execution_count": 106,
   "id": "e44c0dae",
   "metadata": {},
   "outputs": [
    {
     "name": "stdout",
     "output_type": "stream",
     "text": [
      "1\n",
      "2\n",
      "3\n",
      "4\n",
      "5\n",
      "3\n",
      "45\n",
      "78\n"
     ]
    }
   ],
   "source": [
    "t=(1,2,3,4,5,3,45,78)\n",
    "for i in t:\n",
    "    print (i)"
   ]
  },
  {
   "cell_type": "code",
   "execution_count": 107,
   "id": "155f0b73",
   "metadata": {},
   "outputs": [
    {
     "name": "stdout",
     "output_type": "stream",
     "text": [
      "s\n",
      "a\n",
      "c\n",
      "h\n"
     ]
    }
   ],
   "source": [
    "s=\"sach\"\n",
    "for i in s:\n",
    "    print(i)"
   ]
  },
  {
   "cell_type": "code",
   "execution_count": 111,
   "id": "d6aac712",
   "metadata": {},
   "outputs": [
    {
     "name": "stdout",
     "output_type": "stream",
     "text": [
      "0 1\n",
      "1 2\n",
      "2 3\n",
      "3 4\n",
      "4 5\n",
      "5 3\n",
      "6 45\n",
      "7 78\n"
     ]
    }
   ],
   "source": [
    "t=(1,2,3,4,5,3,45,78)\n",
    "for i in range(len(t)):\n",
    "    print(i, t[i])"
   ]
  },
  {
   "cell_type": "code",
   "execution_count": 120,
   "id": "1e2d953e",
   "metadata": {},
   "outputs": [],
   "source": [
    "t=(1,2,3,4,5,3,45,78)"
   ]
  },
  {
   "cell_type": "code",
   "execution_count": 122,
   "id": "c33b7ada",
   "metadata": {},
   "outputs": [
    {
     "data": {
      "text/plain": [
       "[8, 7, 6, 5, 4, 3, 2, 1]"
      ]
     },
     "execution_count": 122,
     "metadata": {},
     "output_type": "execute_result"
    }
   ],
   "source": [
    "list(range(len(t),0,-1))"
   ]
  },
  {
   "cell_type": "code",
   "execution_count": 126,
   "id": "2fcf000f",
   "metadata": {},
   "outputs": [
    {
     "name": "stdout",
     "output_type": "stream",
     "text": [
      "78\n",
      "45\n",
      "3\n",
      "5\n",
      "4\n",
      "3\n",
      "2\n",
      "1\n"
     ]
    }
   ],
   "source": [
    "for i in range(len(t)-1,-1,-1):\n",
    "    print(t[i])"
   ]
  },
  {
   "cell_type": "code",
   "execution_count": 140,
   "id": "c7f76823",
   "metadata": {},
   "outputs": [],
   "source": [
    "d = {\"a\" : \"apple\", \"b\" : \"ball\"}"
   ]
  },
  {
   "cell_type": "code",
   "execution_count": 135,
   "id": "efa52715",
   "metadata": {},
   "outputs": [
    {
     "data": {
      "text/plain": [
       "dict"
      ]
     },
     "execution_count": 135,
     "metadata": {},
     "output_type": "execute_result"
    }
   ],
   "source": [
    "type(d)"
   ]
  },
  {
   "cell_type": "code",
   "execution_count": 144,
   "id": "b8670932",
   "metadata": {},
   "outputs": [
    {
     "name": "stdout",
     "output_type": "stream",
     "text": [
      "a apple\n",
      "b ball\n"
     ]
    }
   ],
   "source": [
    "for i in d:\n",
    "    print(i,d[i])"
   ]
  },
  {
   "cell_type": "code",
   "execution_count": 145,
   "id": "1070200f",
   "metadata": {},
   "outputs": [],
   "source": [
    "s={3,646,646,646,787,898,87,878,4,5,6,6}"
   ]
  },
  {
   "cell_type": "code",
   "execution_count": 146,
   "id": "f51fc6b3",
   "metadata": {},
   "outputs": [
    {
     "data": {
      "text/plain": [
       "{3, 4, 5, 6, 87, 646, 787, 878, 898}"
      ]
     },
     "execution_count": 146,
     "metadata": {},
     "output_type": "execute_result"
    }
   ],
   "source": [
    "s"
   ]
  },
  {
   "cell_type": "code",
   "execution_count": 150,
   "id": "ef26af7b",
   "metadata": {},
   "outputs": [
    {
     "name": "stdout",
     "output_type": "stream",
     "text": [
      "898\n",
      "3\n",
      "4\n",
      "5\n",
      "646\n",
      "6\n",
      "878\n",
      "787\n",
      "87\n"
     ]
    }
   ],
   "source": [
    "for i in s:\n",
    "    print(i)"
   ]
  },
  {
   "cell_type": "code",
   "execution_count": null,
   "id": "b7561dd6",
   "metadata": {},
   "outputs": [],
   "source": []
  }
 ],
 "metadata": {
  "kernelspec": {
   "display_name": "Python 3 (ipykernel)",
   "language": "python",
   "name": "python3"
  },
  "language_info": {
   "codemirror_mode": {
    "name": "ipython",
    "version": 3
   },
   "file_extension": ".py",
   "mimetype": "text/x-python",
   "name": "python",
   "nbconvert_exporter": "python",
   "pygments_lexer": "ipython3",
   "version": "3.9.7"
  }
 },
 "nbformat": 4,
 "nbformat_minor": 5
}
